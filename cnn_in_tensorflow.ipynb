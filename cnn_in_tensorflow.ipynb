{
  "nbformat": 4,
  "nbformat_minor": 0,
  "metadata": {
    "colab": {
      "name": "cnn_in_tensorflow.ipynb",
      "version": "0.3.2",
      "provenance": [],
      "collapsed_sections": [],
      "include_colab_link": true
    },
    "kernelspec": {
      "name": "python3",
      "display_name": "Python 3"
    }
  },
  "cells": [
    {
      "cell_type": "markdown",
      "metadata": {
        "id": "view-in-github",
        "colab_type": "text"
      },
      "source": [
        "<a href=\"https://colab.research.google.com/github/shubhamsks/deep-learning/blob/master/cnn_in_tensorflow.ipynb\" target=\"_parent\"><img src=\"https://colab.research.google.com/assets/colab-badge.svg\" alt=\"Open In Colab\"/></a>"
      ]
    },
    {
      "cell_type": "markdown",
      "metadata": {
        "id": "sQeUwhHkkLGy",
        "colab_type": "text"
      },
      "source": [
        "In  this cell we will make Convulation Layer using tensor flow to take the image of dimesnion as specified  as input"
      ]
    },
    {
      "cell_type": "code",
      "metadata": {
        "id": "aUg09iacRTzo",
        "colab_type": "code",
        "colab": {}
      },
      "source": [
        "import tensorflow as tf\n",
        "# depth of the output\n",
        "k_output = 64\n",
        "\n",
        "# image dimensions \n",
        "image_width = 10\n",
        "image_height = 10\n",
        "color_channels = 3\n",
        "# convolution filter dimension\n",
        "filter_size_width = 5\n",
        "filter_size_height = 5\n",
        "# input /image\n",
        "input = tf.placeholder(tf.float32, shape = [None, image_height, image_width, color_channels])"
      ],
      "execution_count": 0,
      "outputs": []
    },
    {
      "cell_type": "code",
      "metadata": {
        "id": "kr2SORj3TXkh",
        "colab_type": "code",
        "colab": {}
      },
      "source": [
        "# weight and bias\n",
        "weight = tf.Variable(tf.truncated_normal([filter_size_height, filter_size_width,color_channels, k_output]))\n",
        "\n",
        "bias = tf.Variable(tf.zeros(k_output))"
      ],
      "execution_count": 0,
      "outputs": []
    },
    {
      "cell_type": "code",
      "metadata": {
        "id": "cS7hNJMolvmc",
        "colab_type": "code",
        "colab": {}
      },
      "source": [
        "# apply convolution \n",
        "conv_layer = tf.nn.conv2d(input, weight,strides = [1,2,2,1], padding = 'SAME')\n",
        "# add bias\n",
        "conv_layer = tf.nn.bias_add(conv_layer, bias)\n",
        "conv_layer = tf.nn.relu(conv_layer)\n"
      ],
      "execution_count": 0,
      "outputs": []
    },
    {
      "cell_type": "markdown",
      "metadata": {
        "id": "lBidnIclmr3g",
        "colab_type": "text"
      },
      "source": [
        "TensorFlow uses a ```stride``` for each input dimension, \n",
        "\n",
        "```[batch, input_height, input_width, input_channels]```\n",
        "\n",
        "\n",
        "We generally always set the stride for batch and input_channels (i.e. the first and fourth element in the strides array) to be 1. This ensures that the model uses all batches and input channels. (It's good practice to remove the batches or channels you want to skip from the data set rather than use a stride to skip them.)"
      ]
    },
    {
      "cell_type": "code",
      "metadata": {
        "id": "U7s4Z4qCmYzo",
        "colab_type": "code",
        "colab": {
          "base_uri": "https://localhost:8080/",
          "height": 35
        },
        "outputId": "97143907-70ed-48dc-ca7b-730aa0689d19"
      },
      "source": [
        "\"\"\"\n",
        "Setup the strides, padding and filter weight/bias such that\n",
        "the output shape is (1, 2, 2, 3).\n",
        "\"\"\"\n",
        "import tensorflow as tf\n",
        "import numpy as np\n",
        "\n",
        "# `tf.nn.conv2d` requires the input be 4D (batch_size, height, width, depth)\n",
        "# (1, 4, 4, 1)\n",
        "x = np.array([\n",
        "    [0, 1, 0.5, 10],\n",
        "    [2, 2.5, 1, -8],\n",
        "    [4, 0, 5, 6],\n",
        "    [15, 1, 2, 3]], dtype=np.float32).reshape((1, 4, 4, 1))\n",
        "X = tf.constant(x)\n",
        "print(X.shape)\n"
      ],
      "execution_count": 8,
      "outputs": [
        {
          "output_type": "stream",
          "text": [
            "(1, 4, 4, 1)\n"
          ],
          "name": "stdout"
        }
      ]
    },
    {
      "cell_type": "code",
      "metadata": {
        "id": "3UFnH91eqKI1",
        "colab_type": "code",
        "colab": {}
      },
      "source": [
        "\n",
        "\n",
        "def conv2d(input):\n",
        "    # Filter (weights and bias)\n",
        "    # The shape of the filter weight is (height, width, input_depth, output_depth)\n",
        "    # The shape of the filter bias is (output_depth,)\n",
        "    # NOTE: Remember to wrap them in `tf.Variable`, they are trainable parameters after all.\n",
        "    F_W = tf.Variable(tf.truncated_normal([2,2,1,3]) )\n",
        "    F_b = tf.Variable(tf.zeros(3))\n",
        "    strides = [1,2,2,1]\n",
        "    padding = 'VALID'\n",
        "    # https://www.tensorflow.org/versions/r0.11/api_docs/python/nn.html#conv2d\n",
        "    # `tf.nn.conv2d` does not include the bias computation so we have to add it ourselves after.\n",
        "    return tf.nn.conv2d(input, F_W, strides, padding) + F_b\n",
        "\n",
        "out = conv2d(X)\n"
      ],
      "execution_count": 0,
      "outputs": []
    },
    {
      "cell_type": "code",
      "metadata": {
        "id": "gXIOKcyFs0Ci",
        "colab_type": "code",
        "colab": {
          "base_uri": "https://localhost:8080/",
          "height": 35
        },
        "outputId": "0db11eec-447e-41d0-8fbe-dcdf1e1cd998"
      },
      "source": [
        "out"
      ],
      "execution_count": 11,
      "outputs": [
        {
          "output_type": "execute_result",
          "data": {
            "text/plain": [
              "<tf.Tensor 'add:0' shape=(1, 2, 2, 3) dtype=float32>"
            ]
          },
          "metadata": {
            "tags": []
          },
          "execution_count": 11
        }
      ]
    },
    {
      "cell_type": "code",
      "metadata": {
        "id": "TfkPjKWJv5vI",
        "colab_type": "code",
        "colab": {}
      },
      "source": [
        "# Max pooling using tf\n",
        "conv_layer = out\n",
        "conv_layer = tf.nn.relu(conv_layer)\n",
        "# apply max pool\n",
        "conv_layer = tf.nn.max_pool(conv_layer, ksize = [1,2,2,1], strides = [1,2,2,1], padding = 'SAME')"
      ],
      "execution_count": 0,
      "outputs": []
    },
    {
      "cell_type": "code",
      "metadata": {
        "id": "abWki3GoxHgS",
        "colab_type": "code",
        "colab": {}
      },
      "source": [
        "\"\"\"\n",
        "Set the values to `strides` and `ksize` such that\n",
        "the output shape after pooling is (1, 2, 2, 1).\n",
        "\"\"\"\n",
        "import tensorflow as tf\n",
        "import numpy as np\n",
        "\n",
        "# `tf.nn.max_pool` requires the input be 4D (batch_size, height, width, depth)\n",
        "# (1, 4, 4, 1)\n",
        "x = np.array([\n",
        "    [0, 1, 0.5, 10],\n",
        "    [2, 2.5, 1, -8],\n",
        "    [4, 0, 5, 6],\n",
        "    [15, 1, 2, 3]], dtype=np.float32).reshape((1, 4, 4, 1))\n",
        "X = tf.constant(x)\n",
        "\n",
        "def maxpool(input):\n",
        "    # TODO: Set the ksize (filter size) for each dimension (batch_size, height, width, depth)\n",
        "    ksize = [1,2,2,1]\n",
        "    # TODO: Set the stride for each dimension (batch_size, height, width, depth)\n",
        "    strides = [1,2,2,1]\n",
        "    # TODO: set the padding, either 'VALID' or 'SAME'.\n",
        "    padding = 'SAME'\n",
        "    # https://www.tensorflow.org/versions/r0.11/api_docs/python/nn.html#max_pool\n",
        "    return tf.nn.max_pool(input, ksize, strides, padding)\n",
        "    \n",
        "out = maxpool(X)"
      ],
      "execution_count": 0,
      "outputs": []
    },
    {
      "cell_type": "code",
      "metadata": {
        "id": "pstT5i3kyJul",
        "colab_type": "code",
        "colab": {}
      },
      "source": [
        ""
      ],
      "execution_count": 0,
      "outputs": []
    }
  ]
}