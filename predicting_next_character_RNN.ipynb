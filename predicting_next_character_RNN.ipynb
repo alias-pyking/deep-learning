{
  "nbformat": 4,
  "nbformat_minor": 0,
  "metadata": {
    "colab": {
      "name": "predicting_next_character_RNN.ipynb",
      "version": "0.3.2",
      "provenance": [],
      "include_colab_link": true
    },
    "kernelspec": {
      "name": "python3",
      "display_name": "Python 3"
    },
    "accelerator": "GPU"
  },
  "cells": [
    {
      "cell_type": "markdown",
      "metadata": {
        "id": "view-in-github",
        "colab_type": "text"
      },
      "source": [
        "<a href=\"https://colab.research.google.com/github/shubhamsks/deep-learning/blob/master/predicting_next_character_RNN.ipynb\" target=\"_parent\"><img src=\"https://colab.research.google.com/assets/colab-badge.svg\" alt=\"Open In Colab\"/></a>"
      ]
    },
    {
      "cell_type": "code",
      "metadata": {
        "id": "hh9Ld1rYMR46",
        "colab_type": "code",
        "colab": {}
      },
      "source": [
        "import time\n",
        "from collections import namedtuple\n",
        "\n",
        "import numpy as np\n",
        "import tensorflow as tf"
      ],
      "execution_count": 0,
      "outputs": []
    },
    {
      "cell_type": "code",
      "metadata": {
        "id": "c1QqpLdmNfj8",
        "colab_type": "code",
        "colab": {}
      },
      "source": [
        "with open('anna.txt','r') as f:\n",
        "  text = f.read()\n"
      ],
      "execution_count": 0,
      "outputs": []
    },
    {
      "cell_type": "code",
      "metadata": {
        "id": "xWZ2X0uQOFJJ",
        "colab_type": "code",
        "colab": {}
      },
      "source": [
        "vocab = sorted(set(text))"
      ],
      "execution_count": 0,
      "outputs": []
    },
    {
      "cell_type": "code",
      "metadata": {
        "id": "FrI4GeFGOGhW",
        "colab_type": "code",
        "colab": {}
      },
      "source": [
        "vocab_to_int = {c: i for i, c in enumerate(vocab)}\n",
        "int_to_vocab = dict(enumerate(vocab))\n",
        "\n",
        "# Encoding the character to integers because computers don't understand text\n",
        "encoded = np.array([vocab_to_int[c] for c in text], dtype=np.int32)"
      ],
      "execution_count": 0,
      "outputs": []
    },
    {
      "cell_type": "code",
      "metadata": {
        "id": "wci06iPkOR5y",
        "colab_type": "code",
        "colab": {
          "base_uri": "https://localhost:8080/",
          "height": 33
        },
        "outputId": "00851ae2-32fb-4bdf-b35e-833c9706fcf5"
      },
      "source": [
        "text[:100]"
      ],
      "execution_count": 15,
      "outputs": [
        {
          "output_type": "execute_result",
          "data": {
            "text/plain": [
              "'Chapter 1\\n\\n\\nHappy families are all alike; every unhappy family is unhappy in its own\\nway.\\n\\nEverythin'"
            ]
          },
          "metadata": {
            "tags": []
          },
          "execution_count": 15
        }
      ]
    },
    {
      "cell_type": "code",
      "metadata": {
        "id": "uNzDUUt8P703",
        "colab_type": "code",
        "colab": {
          "base_uri": "https://localhost:8080/",
          "height": 134
        },
        "outputId": "b3389e1c-eac2-4bbd-fa3d-e4c010b719aa"
      },
      "source": [
        "encoded[:100]"
      ],
      "execution_count": 16,
      "outputs": [
        {
          "output_type": "execute_result",
          "data": {
            "text/plain": [
              "array([25, 57, 50, 65, 69, 54, 67,  1, 11,  0,  0,  0, 30, 50, 65, 65, 74,\n",
              "        1, 55, 50, 62, 58, 61, 58, 54, 68,  1, 50, 67, 54,  1, 50, 61, 61,\n",
              "        1, 50, 61, 58, 60, 54, 21,  1, 54, 71, 54, 67, 74,  1, 70, 63, 57,\n",
              "       50, 65, 65, 74,  1, 55, 50, 62, 58, 61, 74,  1, 58, 68,  1, 70, 63,\n",
              "       57, 50, 65, 65, 74,  1, 58, 63,  1, 58, 69, 68,  1, 64, 72, 63,  0,\n",
              "       72, 50, 74,  9,  0,  0, 27, 71, 54, 67, 74, 69, 57, 58, 63],\n",
              "      dtype=int32)"
            ]
          },
          "metadata": {
            "tags": []
          },
          "execution_count": 16
        }
      ]
    },
    {
      "cell_type": "code",
      "metadata": {
        "id": "UbHFLztHQRgq",
        "colab_type": "code",
        "colab": {
          "base_uri": "https://localhost:8080/",
          "height": 33
        },
        "outputId": "7c4951ee-88e8-41d4-eafa-d83fbfcb4226"
      },
      "source": [
        "len(vocab)"
      ],
      "execution_count": 17,
      "outputs": [
        {
          "output_type": "execute_result",
          "data": {
            "text/plain": [
              "76"
            ]
          },
          "metadata": {
            "tags": []
          },
          "execution_count": 17
        }
      ]
    },
    {
      "cell_type": "code",
      "metadata": {
        "id": "7RHKQF_pQgMT",
        "colab_type": "code",
        "colab": {}
      },
      "source": [
        "def get_batches(arr, batch_size, n_steps):\n",
        "    '''Create a generator that returns batches of size\n",
        "       batch_size x n_steps from arr.\n",
        "       \n",
        "       Arguments\n",
        "       ---------\n",
        "       arr: Array you want to make batches from\n",
        "       batch_size: Batch size, the number of sequences per batch\n",
        "       n_steps: Number of sequence steps per batch\n",
        "    '''\n",
        "    # Get the number of characters per batch and number of batches we can make\n",
        "    chars_per_batch = batch_size * n_steps\n",
        "    n_batches = len(arr)//chars_per_batch\n",
        "    \n",
        "    # Keep only enough characters to make full batches\n",
        "    arr = arr[:n_batches * chars_per_batch]\n",
        "    \n",
        "    # Reshape into batch_size rows\n",
        "    arr = arr.reshape((batch_size, -1))\n",
        "    \n",
        "    for n in range(0, arr.shape[1], n_steps):\n",
        "        # The features\n",
        "        x = arr[:, n:n+n_steps]\n",
        "        # The targets, shifted by one\n",
        "        y_temp = arr[:, n+1:n+n_steps+1]\n",
        "        #trick by udacity \n",
        "        # For the very last batch, y will be one character short at the end of \n",
        "        # the sequences which breaks things. To get around this, I'll make an \n",
        "        # array of the appropriate size first, of all zeros, then add the targets.\n",
        "        # This will introduce a small artifact in the last batch, but it won't matter.\n",
        "        y = np.zeros(x.shape, dtype=x.dtype)\n",
        "        y[:,:y_temp.shape[1]] = y_temp\n",
        "        \n",
        "        yield x, y"
      ],
      "execution_count": 0,
      "outputs": []
    },
    {
      "cell_type": "code",
      "metadata": {
        "id": "bdLTG6wUZcON",
        "colab_type": "code",
        "colab": {}
      },
      "source": [
        "batches = get_batches(encoded, 10, 50)\n",
        "x, y = next(batches)"
      ],
      "execution_count": 0,
      "outputs": []
    },
    {
      "cell_type": "code",
      "metadata": {
        "id": "qzq3lDZSZeI1",
        "colab_type": "code",
        "colab": {
          "base_uri": "https://localhost:8080/",
          "height": 385
        },
        "outputId": "705fbbbf-1d0f-4171-c275-2e3b19c3c10a"
      },
      "source": [
        "print('x')\n",
        "print(x[:10,:20])\n",
        "print('y')\n",
        "print(y[:10,:20])"
      ],
      "execution_count": 20,
      "outputs": [
        {
          "output_type": "stream",
          "text": [
            "x\n",
            "[[25 57 50 65 69 54 67  1 11  0  0  0 30 50 65 65 74  1 55 50]\n",
            " [69 57 54  1 66 70 54 68 69 58 64 63  1 58 63  1 69 57 54  1]\n",
            " [68 70 55 55 54 67 58 63 56  7  1 50 63 53  1 52 67 70 54 61]\n",
            " [63 20  1 69 72 64  1 55 54 68 69 58 71 54  1 74 64 70 63 56]\n",
            " [53 53 54 63 61 74  7  1 61 50 74 58 63 56  1 53 64 72 63  1]\n",
            " [54 61 61  2  1 24 70 69  1 31  1 54 73 65 54 52 69  1 50  1]\n",
            " [70 56 57 69  1 57 54  1 62 70 68 69  1 55 50 61 61  7  1 50]\n",
            " [54  1 74 64 70  9  1 42 54 50  1 58 63  1 69 57 54  1 61 58]\n",
            " [54 67 68  1 51 54 52 50 70 68 54  1 69 57 54  1 65 54 64 65]\n",
            " [72 64 62 50 63  9  1 28 64 67  1 29 64 53  4 68  1 68 50 60]]\n",
            "y\n",
            "[[57 50 65 69 54 67  1 11  0  0  0 30 50 65 65 74  1 55 50 62]\n",
            " [57 54  1 66 70 54 68 69 58 64 63  1 58 63  1 69 57 54  1 62]\n",
            " [70 55 55 54 67 58 63 56  7  1 50 63 53  1 52 67 70 54 61  7]\n",
            " [20  1 69 72 64  1 55 54 68 69 58 71 54  1 74 64 70 63 56  1]\n",
            " [53 54 63 61 74  7  1 61 50 74 58 63 56  1 53 64 72 63  1 69]\n",
            " [61 61  2  1 24 70 69  1 31  1 54 73 65 54 52 69  1 50  1 68]\n",
            " [56 57 69  1 57 54  1 62 70 68 69  1 55 50 61 61  7  1 50 68]\n",
            " [ 1 74 64 70  9  1 42 54 50  1 58 63  1 69 57 54  1 61 58 69]\n",
            " [67 68  1 51 54 52 50 70 68 54  1 69 57 54  1 65 54 64 65 61]\n",
            " [64 62 50 63  9  1 28 64 67  1 29 64 53  4 68  1 68 50 60 54]]\n"
          ],
          "name": "stdout"
        }
      ]
    },
    {
      "cell_type": "code",
      "metadata": {
        "id": "IhHOLDSdceo0",
        "colab_type": "code",
        "colab": {}
      },
      "source": [
        "def build_inputs(batch_size, num_steps):\n",
        "    ''' Define placeholders for inputs, targets, and dropout \n",
        "    \n",
        "        Arguments\n",
        "        ---------\n",
        "        batch_size: Batch size, number of sequences per batch\n",
        "        num_steps: Number of sequence steps in a batch\n",
        "        \n",
        "    '''\n",
        "    # Declare placeholders we'll feed into the graph\n",
        "    inputs = tf.placeholder(shape = (batch_size, num_steps), dtype = tf.int32, name='inputs')\n",
        "    targets = tf.placeholder(shape =(batch_size, num_steps),dtype = tf.int32, name = 'targets')\n",
        "    \n",
        "    # Keep probability placeholder for drop out layers\n",
        "    keep_prob = tf.placeholder(tf.float32, name = 'keep_prob')\n",
        "    \n",
        "    return inputs, targets, keep_prob"
      ],
      "execution_count": 0,
      "outputs": []
    },
    {
      "cell_type": "code",
      "metadata": {
        "id": "q5gRwraWhoLz",
        "colab_type": "code",
        "colab": {}
      },
      "source": [
        "def build_lstm(lstm_size, num_layers, batch_size, keep_prob):\n",
        "    ''' Build LSTM cell.\n",
        "    \n",
        "        Arguments\n",
        "        ---------\n",
        "        keep_prob: Scalar tensor (tf.placeholder) for the dropout keep probability\n",
        "        lstm_size: Size of the hidden layers in the LSTM cells\n",
        "        num_layers: Number of LSTM layers\n",
        "        batch_size: Batch size\n",
        "\n",
        "    '''\n",
        "    ### Build the LSTM Cell\n",
        "    \n",
        "    def build_cell(lstm_size, keep_prob):\n",
        "        # Use a basic LSTM cell\n",
        "        lstm = tf.contrib.rnn.BasicLSTMCell(lstm_size)\n",
        "        \n",
        "        # Add dropout to the cell\n",
        "        drop = tf.contrib.rnn.DropoutWrapper(lstm, output_keep_prob=keep_prob)\n",
        "        return drop\n",
        "    \n",
        "    \n",
        "    # Stack up multiple LSTM layers, for deep learning\n",
        "    cell = tf.contrib.rnn.MultiRNNCell([build_cell(lstm_size, keep_prob) for _ in range(num_layers)])\n",
        "    initial_state = cell.zero_state(batch_size, tf.float32)\n",
        "    \n",
        "    return cell, initial_state"
      ],
      "execution_count": 0,
      "outputs": []
    },
    {
      "cell_type": "markdown",
      "metadata": {
        "id": "SWXirUX6rny8",
        "colab_type": "text"
      },
      "source": [
        "### RNN Output\n",
        "\n",
        "Here we'll create the output layer. We need to connect the output of the RNN cells to a full connected layer with a softmax output. The softmax output gives us a probability distribution we can use to predict the next character.\n",
        "\n",
        "If our input has batch size $N$, number of steps $M$, and the hidden layer has $L$ hidden units, then the output is a 3D tensor with size $N \\times M \\times L$. The output of each LSTM cell has size $L$, we have $M$ of them, one for each sequence step, and we have $N$ sequences. So the total size is $N \\times M \\times L$.\n",
        "\n",
        "We are using the same fully connected layer, the same weights, for each of the outputs. Then, to make things easier, we should reshape the outputs into a 2D tensor with shape $(M * N) \\times L$. That is, one row for each sequence and step, where the values of each row are the output from the LSTM cells.\n",
        "\n",
        "One we have the outputs reshaped, we can do the matrix multiplication with the weights. We need to wrap the weight and bias variables in a variable scope with `tf.variable_scope(scope_name)` because there are weights being created in the LSTM cells. TensorFlow will throw an error if the weights created here have the same names as the weights created in the LSTM cells, which they will be default. To avoid this, we wrap the variables in a variable scope so we can give them unique names."
      ]
    },
    {
      "cell_type": "code",
      "metadata": {
        "id": "hK004ynwmSFA",
        "colab_type": "code",
        "colab": {}
      },
      "source": [
        "# RNN output\n",
        "def build_output(lstm_output, in_size, out_size):\n",
        "    ''' Build a softmax layer, return the softmax output and logits.\n",
        "    \n",
        "        Arguments\n",
        "        ---------\n",
        "        \n",
        "        lstm_output: List of output tensors from the LSTM layer\n",
        "        in_size: Size of the input tensor, for example, size of the LSTM cells\n",
        "        out_size: Size of this softmax layer\n",
        "    \n",
        "    '''\n",
        "\n",
        "    # Reshape output so it's a bunch of rows, one row for each step for each sequence.\n",
        "    # Concatenate lstm_output over axis 1 (the columns)\n",
        "    seq_output = tf.concat(lstm_output, axis = 1)\n",
        "    # Reshape seq_output to a 2D tensor with lstm_size columns\n",
        "    x = tf.reshape(seq_output,[-1, in_size])\n",
        "    \n",
        "    # Connect the RNN outputs to a softmax layer\n",
        "    with tf.variable_scope('softmax'):\n",
        "        # Create the weight and bias variables here\n",
        "        softmax_w = tf.Variable(tf.truncated_normal((in_size, out_size),stddev=0.1))\n",
        "        softmax_b = tf.Variable(tf.zeros(out_size))\n",
        "    \n",
        "    # Since output is a bunch of rows of RNN cell outputs, logits will be a bunch\n",
        "    # of rows of logit outputs, one for each step and sequence\n",
        "    logits = tf.matmul(x, softmax_w) + softmax_b\n",
        "    \n",
        "    # Use softmax to get the probabilities for predicted characters\n",
        "    out = tf.nn.softmax(logits, name = 'predictions')\n",
        "    \n",
        "    return out, logits"
      ],
      "execution_count": 0,
      "outputs": []
    },
    {
      "cell_type": "code",
      "metadata": {
        "id": "0i9pOJlNseYb",
        "colab_type": "code",
        "colab": {}
      },
      "source": [
        "# Training Loss\n",
        "def build_loss(logits, targets, lstm_size, num_classes):\n",
        "    ''' Calculate the loss from the logits and the targets.\n",
        "    \n",
        "        Arguments\n",
        "        ---------\n",
        "        logits: Logits from final fully connected layer\n",
        "        targets: Targets for supervised learning\n",
        "        lstm_size: Number of LSTM hidden units\n",
        "        num_classes: Number of classes in targets\n",
        "        \n",
        "    '''\n",
        "    \n",
        "    # One-hot encode targets and reshape to match logits, one row per sequence per step\n",
        "    y_one_hot = tf.one_hot(targets, num_classes)\n",
        "    y_reshaped =  tf.reshape(y_one_hot,logits.get_shape())\n",
        "    \n",
        "    # Softmax cross entropy loss\n",
        "    loss = tf.nn.softmax_cross_entropy_with_logits(labels = y_reshaped, logits = logits)\n",
        "    \n",
        "    \n",
        "    return loss"
      ],
      "execution_count": 0,
      "outputs": []
    },
    {
      "cell_type": "code",
      "metadata": {
        "id": "iS5Cg-PVv5TF",
        "colab_type": "code",
        "colab": {}
      },
      "source": [
        "# optmizer\n",
        "def build_optimizer(loss, learning_rate, grad_clip):\n",
        "    ''' Build optmizer for training, using gradient clipping.\n",
        "    \n",
        "        Arguments:\n",
        "        loss: Network loss\n",
        "        learning_rate: Learning rate for optimizer\n",
        "    \n",
        "    '''\n",
        "    \n",
        "    # Optimizer for training, using gradient clipping to control exploding gradients\n",
        "    tvars = tf.trainable_variables()\n",
        "    grads, _ = tf.clip_by_global_norm(tf.gradients(loss, tvars), grad_clip)\n",
        "    train_op = tf.train.AdamOptimizer(learning_rate)\n",
        "    optimizer = train_op.apply_gradients(zip(grads, tvars))\n",
        "    \n",
        "    return optimizer"
      ],
      "execution_count": 0,
      "outputs": []
    },
    {
      "cell_type": "code",
      "metadata": {
        "id": "sRn3azfQLeXb",
        "colab_type": "code",
        "colab": {}
      },
      "source": [
        "class CharRNN:\n",
        "    \n",
        "    def __init__(self, num_classes, batch_size=64, num_steps=50, \n",
        "                       lstm_size=128, num_layers=2, learning_rate=0.001, \n",
        "                       grad_clip=5, sampling=False):\n",
        "    \n",
        "        # When we're using this network for sampling later, we'll be passing in\n",
        "        # one character at a time, so providing an option for that\n",
        "        if sampling == True:\n",
        "            batch_size, num_steps = 1, 1\n",
        "        else:\n",
        "            batch_size, num_steps = batch_size, num_steps\n",
        "\n",
        "        tf.reset_default_graph()\n",
        "        \n",
        "        # Build the input placeholder tensors\n",
        "        self.inputs, self.targets, self.keep_prob = build_inputs(batch_size,num_steps)\n",
        "\n",
        "        # Build the LSTM cell\n",
        "        cell, self.initial_state = build_lstm(lstm_size, num_layers, batch_size, self.keep_prob)\n",
        "\n",
        "        ### Run the data through the RNN layers\n",
        "        # First, one-hot encode the input tokens\n",
        "        x_one_hot = tf.one_hot(self.inputs, num_classes)\n",
        "        \n",
        "        # Run each sequence step through the RNN with tf.nn.dynamic_rnn \n",
        "        outputs, state = tf.nn.dynamic_rnn(cell= cell, inputs = x_one_hot,initial_state= self.initial_state)\n",
        "        self.final_state = state\n",
        "        \n",
        "        # Get softmax predictions and logits\n",
        "        self.prediction, self.logits = build_output(outputs,lstm_size,num_classes)\n",
        "        \n",
        "        # Loss and optimizer (with gradient clipping)\n",
        "        self.loss =  build_loss(self.logits,self.targets, lstm_size, num_classes)\n",
        "        self.optimizer = build_optimizer(self.loss, learning_rate, grad_clip)"
      ],
      "execution_count": 0,
      "outputs": []
    },
    {
      "cell_type": "code",
      "metadata": {
        "id": "RxKspuqSRoQ0",
        "colab_type": "code",
        "colab": {}
      },
      "source": [
        "# setting the hyper parameters \n",
        "batch_size = 100        # Sequences per batch\n",
        "num_steps = 100         # Number of sequence steps per batch\n",
        "lstm_size = 512         # Size of hidden layers in LSTMs\n",
        "num_layers = 2          # Number of LSTM layers\n",
        "learning_rate = 0.001   # Learning rate\n",
        "keep_prob = 0.5         # Dropout keep probability"
      ],
      "execution_count": 0,
      "outputs": []
    },
    {
      "cell_type": "code",
      "metadata": {
        "id": "lf6gjyDsSJKL",
        "colab_type": "code",
        "colab": {
          "base_uri": "https://localhost:8080/",
          "height": 753
        },
        "outputId": "9a0e3a55-afdb-4b6d-8dd4-23f25946cad6"
      },
      "source": [
        "epochs = 20\n",
        "# Print losses every N interations\n",
        "print_every_n = 50\n",
        "\n",
        "# Save every N iterations\n",
        "save_every_n = 200\n",
        "\n",
        "model = CharRNN(len(vocab), batch_size=batch_size, num_steps=num_steps,\n",
        "                lstm_size=lstm_size, num_layers=num_layers, \n",
        "                learning_rate=learning_rate)\n",
        "\n",
        "saver = tf.train.Saver(max_to_keep=100)\n",
        "with tf.Session() as sess:\n",
        "    sess.run(tf.global_variables_initializer())\n",
        "    \n",
        "    # Use the line below to load a checkpoint and resume training\n",
        "    #saver.restore(sess, 'checkpoints/______.ckpt')\n",
        "    counter = 0\n",
        "    for e in range(epochs):\n",
        "        # Train network\n",
        "        new_state = sess.run(model.initial_state)\n",
        "        loss = 0\n",
        "        for x, y in get_batches(encoded, batch_size, num_steps):\n",
        "            counter += 1\n",
        "            start = time.time()\n",
        "            feed = {model.inputs: x,\n",
        "                    model.targets: y,\n",
        "                    model.keep_prob: keep_prob,\n",
        "                    model.initial_state: new_state}\n",
        "            batch_loss, new_state, _ = sess.run([model.loss, \n",
        "                                                 model.final_state, \n",
        "                                                 model.optimizer], \n",
        "                                                 feed_dict=feed)\n",
        "            if (counter % print_every_n == 0):\n",
        "                end = time.time()\n",
        "                print('Epoch: {}/{}... '.format(e+1, epochs),\n",
        "                      'Training Step: {}... '.format(counter),\n",
        "                      'Training loss: {}... '.format(batch_loss),\n",
        "                      '{:.4f} sec/batch'.format((end-start)))\n",
        "        \n",
        "            if (counter % save_every_n == 0):\n",
        "                saver.save(sess, \"checkpoints/i{}_l{}.ckpt\".format(counter, lstm_size))\n",
        "    \n",
        "    saver.save(sess, \"checkpoints/i{}_l{}.ckpt\".format(counter, lstm_size))"
      ],
      "execution_count": 29,
      "outputs": [
        {
          "output_type": "stream",
          "text": [
            "Epoch: 1/20...  Training Step: 50...  Training loss: [3.8588972 2.8508182 4.275669  ... 1.9458618 4.499959  2.0578387]...  0.1464 sec/batch\n",
            "Epoch: 1/20...  Training Step: 100...  Training loss: [1.2806416  0.9940436  2.469316   ... 1.1012967  0.47052938 3.466614  ]...  0.1569 sec/batch\n",
            "Epoch: 2/20...  Training Step: 150...  Training loss: [0.19318552 2.758006   0.6432263  ... 1.0827253  2.5662653  0.8128898 ]...  0.1500 sec/batch\n",
            "Epoch: 2/20...  Training Step: 200...  Training loss: [0.5710872  5.759434   0.06132247 ... 1.1293353  1.4260061  3.1424685 ]...  0.1585 sec/batch\n",
            "Epoch: 3/20...  Training Step: 250...  Training loss: [4.3598833  0.74093246 2.3057022  ... 4.369235   1.925463   0.5429019 ]...  0.1548 sec/batch\n",
            "Epoch: 3/20...  Training Step: 300...  Training loss: [0.95164865 3.1261916  0.357482   ... 0.35111293 4.680373   0.77234316]...  0.1519 sec/batch\n",
            "Epoch: 4/20...  Training Step: 350...  Training loss: [2.2194192 2.5235195 0.445639  ... 3.7747998 1.626569  3.4196167]...  0.1591 sec/batch\n",
            "Epoch: 4/20...  Training Step: 400...  Training loss: [2.5311995 2.4879174 4.1837273 ... 0.5025728 2.6807828 1.4890498]...  0.1532 sec/batch\n",
            "Epoch: 5/20...  Training Step: 450...  Training loss: [1.5125288  1.5940857  1.0339124  ... 0.41093636 2.5793877  0.41959906]...  0.1598 sec/batch\n",
            "Epoch: 5/20...  Training Step: 500...  Training loss: [0.87500393 1.525559   0.811016   ... 4.449623   1.4018943  1.9754101 ]...  0.1524 sec/batch\n",
            "Epoch: 6/20...  Training Step: 550...  Training loss: [1.7055681 0.0609809 3.1884236 ... 3.9861035 1.714802  3.2803347]...  0.1503 sec/batch\n",
            "Epoch: 6/20...  Training Step: 600...  Training loss: [7.2326903 0.169671  1.9788252 ... 2.4682956 4.7290087 2.4347157]...  0.1555 sec/batch\n",
            "Epoch: 7/20...  Training Step: 650...  Training loss: [1.2502093  1.2189552  0.22381443 ... 3.711935   2.6065466  0.83536005]...  0.1575 sec/batch\n",
            "Epoch: 7/20...  Training Step: 700...  Training loss: [4.303047   0.33972168 0.59200144 ... 0.99527025 0.08206784 0.3041183 ]...  0.1500 sec/batch\n",
            "Epoch: 8/20...  Training Step: 750...  Training loss: [0.89173096 0.26493546 0.16085662 ... 0.2246836  1.5427662  0.68460315]...  0.1552 sec/batch\n",
            "Epoch: 8/20...  Training Step: 800...  Training loss: [3.8736625  1.3110154  0.78334445 ... 0.7640563  0.09408408 2.9219923 ]...  0.1495 sec/batch\n",
            "Epoch: 9/20...  Training Step: 850...  Training loss: [2.895824   2.15065    0.758777   ... 0.99670845 3.7233949  3.035581  ]...  0.1517 sec/batch\n",
            "Epoch: 9/20...  Training Step: 900...  Training loss: [0.5067057  2.3061624  0.31444305 ... 3.5493674  0.7378055  1.8903453 ]...  0.1595 sec/batch\n",
            "Epoch: 10/20...  Training Step: 950...  Training loss: [1.1890255e-01 4.8705194e-02 5.0382776e+00 ... 7.0874107e-01 1.4585832e-01\n",
            " 4.9821991e-03]...  0.1610 sec/batch\n",
            "Epoch: 10/20...  Training Step: 1000...  Training loss: [0.10857511 1.0162077  3.5150769  ... 2.5817263  1.7806543  2.3374698 ]...  0.1609 sec/batch\n",
            "Epoch: 11/20...  Training Step: 1050...  Training loss: [0.01539666 2.6616242  1.550242   ... 2.8164508  0.06838673 0.42191872]...  0.1574 sec/batch\n",
            "Epoch: 11/20...  Training Step: 1100...  Training loss: [2.2360697e-02 1.4174662e-03 2.1377487e-01 ... 2.9724523e-01 2.7275076e+00\n",
            " 1.1539778e+00]...  0.1568 sec/batch\n",
            "Epoch: 12/20...  Training Step: 1150...  Training loss: [2.6927953  0.28504765 0.21229967 ... 0.3092821  2.7679873  2.4138198 ]...  0.1537 sec/batch\n",
            "Epoch: 12/20...  Training Step: 1200...  Training loss: [2.7624736 0.8772005 1.9140209 ... 3.4484143 0.6149989 3.2544458]...  0.1687 sec/batch\n",
            "Epoch: 13/20...  Training Step: 1250...  Training loss: [1.0983226  2.7756894  1.8889762  ... 1.3987062  0.20053159 0.7122393 ]...  0.1509 sec/batch\n",
            "Epoch: 13/20...  Training Step: 1300...  Training loss: [2.506448   1.4364723  0.04759663 ... 2.0199003  0.9128362  0.05019229]...  0.1570 sec/batch\n",
            "Epoch: 14/20...  Training Step: 1350...  Training loss: [1.5674264  2.5558424  1.4630835  ... 5.0479717  0.15477917 1.591868  ]...  0.1573 sec/batch\n",
            "Epoch: 14/20...  Training Step: 1400...  Training loss: [1.5678011  0.6272553  0.18638404 ... 1.0562359  3.166586   0.20087714]...  0.1578 sec/batch\n",
            "Epoch: 15/20...  Training Step: 1450...  Training loss: [2.134499   0.6199604  2.8862648  ... 1.9012724  0.18128891 0.1221001 ]...  0.1527 sec/batch\n",
            "Epoch: 15/20...  Training Step: 1500...  Training loss: [0.78672063 0.00422134 0.04417243 ... 0.15548636 0.09220573 2.3227508 ]...  0.1670 sec/batch\n",
            "Epoch: 16/20...  Training Step: 1550...  Training loss: [10.445892    1.5648706   1.4421126  ...  0.2573917   1.0198827\n",
            "  0.08344454]...  0.1515 sec/batch\n",
            "Epoch: 16/20...  Training Step: 1600...  Training loss: [0.4571367  5.369513   1.4928412  ... 1.0940601  0.28931835 1.6465427 ]...  0.1542 sec/batch\n",
            "Epoch: 17/20...  Training Step: 1650...  Training loss: [0.01374871 0.04439596 1.1603104  ... 3.2235117  3.6992488  2.7429705 ]...  0.1519 sec/batch\n",
            "Epoch: 17/20...  Training Step: 1700...  Training loss: [0.55971766 0.18874122 2.300084   ... 0.20479754 0.11352579 1.2366927 ]...  0.1587 sec/batch\n",
            "Epoch: 18/20...  Training Step: 1750...  Training loss: [2.612551   2.7193792  4.549543   ... 0.23770848 1.4977899  0.0614588 ]...  0.1639 sec/batch\n",
            "Epoch: 18/20...  Training Step: 1800...  Training loss: [1.2960002  2.7076097  0.0178932  ... 2.048385   0.30118063 0.14668058]...  0.1539 sec/batch\n",
            "Epoch: 19/20...  Training Step: 1850...  Training loss: [0.23099345 2.1337037  1.0892875  ... 2.197453   3.4445364  1.7564398 ]...  0.1531 sec/batch\n",
            "Epoch: 19/20...  Training Step: 1900...  Training loss: [2.1852565  0.64747167 0.4809767  ... 0.12348403 4.858922   3.7883778 ]...  0.1631 sec/batch\n",
            "Epoch: 20/20...  Training Step: 1950...  Training loss: [5.1135901e-02 7.6753249e+00 1.4336354e-01 ... 1.9584168e-04 8.8151149e-02\n",
            " 1.7709925e+00]...  0.1583 sec/batch\n",
            "Epoch: 20/20...  Training Step: 2000...  Training loss: [0.07518318 1.5598407  0.10936736 ... 0.00307837 0.41660523 0.00357216]...  0.1589 sec/batch\n"
          ],
          "name": "stdout"
        }
      ]
    },
    {
      "cell_type": "code",
      "metadata": {
        "id": "HeFH2oHDT-xy",
        "colab_type": "code",
        "colab": {
          "base_uri": "https://localhost:8080/",
          "height": 217
        },
        "outputId": "d56dadd6-1734-48ef-8438-557dcc71520f"
      },
      "source": [
        "tf.train.get_checkpoint_state('checkpoints')"
      ],
      "execution_count": 30,
      "outputs": [
        {
          "output_type": "execute_result",
          "data": {
            "text/plain": [
              "model_checkpoint_path: \"checkpoints/i2040_l512.ckpt\"\n",
              "all_model_checkpoint_paths: \"checkpoints/i200_l512.ckpt\"\n",
              "all_model_checkpoint_paths: \"checkpoints/i400_l512.ckpt\"\n",
              "all_model_checkpoint_paths: \"checkpoints/i600_l512.ckpt\"\n",
              "all_model_checkpoint_paths: \"checkpoints/i800_l512.ckpt\"\n",
              "all_model_checkpoint_paths: \"checkpoints/i1000_l512.ckpt\"\n",
              "all_model_checkpoint_paths: \"checkpoints/i1200_l512.ckpt\"\n",
              "all_model_checkpoint_paths: \"checkpoints/i1400_l512.ckpt\"\n",
              "all_model_checkpoint_paths: \"checkpoints/i1600_l512.ckpt\"\n",
              "all_model_checkpoint_paths: \"checkpoints/i1800_l512.ckpt\"\n",
              "all_model_checkpoint_paths: \"checkpoints/i2000_l512.ckpt\"\n",
              "all_model_checkpoint_paths: \"checkpoints/i2040_l512.ckpt\""
            ]
          },
          "metadata": {
            "tags": []
          },
          "execution_count": 30
        }
      ]
    },
    {
      "cell_type": "code",
      "metadata": {
        "id": "xMKs0tUy59AD",
        "colab_type": "code",
        "colab": {}
      },
      "source": [
        "def pick_top_n(preds, vocab_size, top_n=5):\n",
        "    p = np.squeeze(preds)\n",
        "    p[np.argsort(p)[:-top_n]] = 0\n",
        "    p = p / np.sum(p)\n",
        "    c = np.random.choice(vocab_size, 1, p=p)[0]\n",
        "    return c"
      ],
      "execution_count": 0,
      "outputs": []
    },
    {
      "cell_type": "code",
      "metadata": {
        "id": "x76X8cAA8dax",
        "colab_type": "code",
        "colab": {}
      },
      "source": [
        "def sample(checkpoint, n_samples, lstm_size, vocab_size, prime=\"The \"):\n",
        "    samples = [c for c in prime]\n",
        "    model = CharRNN(len(vocab), lstm_size=lstm_size, sampling=True)\n",
        "    saver = tf.train.Saver()\n",
        "    with tf.Session() as sess:\n",
        "        saver.restore(sess, checkpoint)\n",
        "        new_state = sess.run(model.initial_state)\n",
        "        for c in prime:\n",
        "            x = np.zeros((1, 1))\n",
        "            x[0,0] = vocab_to_int[c]\n",
        "            feed = {model.inputs: x,\n",
        "                    model.keep_prob: 1.,\n",
        "                    model.initial_state: new_state}\n",
        "            preds, new_state = sess.run([model.prediction, model.final_state], \n",
        "                                         feed_dict=feed)\n",
        "\n",
        "        c = pick_top_n(preds, len(vocab))\n",
        "        samples.append(int_to_vocab[c])\n",
        "\n",
        "        for i in range(n_samples):\n",
        "            x[0,0] = c\n",
        "            feed = {model.inputs: x,\n",
        "                    model.keep_prob: 1.,\n",
        "                    model.initial_state: new_state}\n",
        "            preds, new_state = sess.run([model.prediction, model.final_state], \n",
        "                                         feed_dict=feed)\n",
        "\n",
        "            c = pick_top_n(preds, len(vocab))\n",
        "            samples.append(int_to_vocab[c])\n",
        "        \n",
        "    return ''.join(samples)"
      ],
      "execution_count": 0,
      "outputs": []
    },
    {
      "cell_type": "code",
      "metadata": {
        "id": "9JT-O6AM8fk-",
        "colab_type": "code",
        "colab": {
          "base_uri": "https://localhost:8080/",
          "height": 33
        },
        "outputId": "884e10e8-01a2-4322-eb5a-36829098e214"
      },
      "source": [
        "tf.train.latest_checkpoint('checkpoints')"
      ],
      "execution_count": 33,
      "outputs": [
        {
          "output_type": "execute_result",
          "data": {
            "text/plain": [
              "'checkpoints/i2040_l512.ckpt'"
            ]
          },
          "metadata": {
            "tags": []
          },
          "execution_count": 33
        }
      ]
    },
    {
      "cell_type": "code",
      "metadata": {
        "id": "8kqpO7qk8huj",
        "colab_type": "code",
        "colab": {
          "base_uri": "https://localhost:8080/",
          "height": 756
        },
        "outputId": "cbd42caa-4408-469a-bd9e-9a538547ee66"
      },
      "source": [
        "checkpoint = tf.train.latest_checkpoint('checkpoints')\n",
        "samp = sample(checkpoint, 2000, lstm_size, len(vocab), prime=\"Far\")\n",
        "print(samp)"
      ],
      "execution_count": 34,
      "outputs": [
        {
          "output_type": "stream",
          "text": [
            "W0901 17:49:37.816656 140704822318976 deprecation.py:323] From /usr/local/lib/python3.6/dist-packages/tensorflow/python/training/saver.py:1276: checkpoint_exists (from tensorflow.python.training.checkpoint_management) is deprecated and will be removed in a future version.\n",
            "Instructions for updating:\n",
            "Use standard file APIs to check for files with this prefix.\n"
          ],
          "name": "stderr"
        },
        {
          "output_type": "stream",
          "text": [
            "Farence, he\n",
            "had so that she cuuld be a still because, but he went on: \"To the mother\n",
            "with her to be angaids, the people can be stream of it. I all\n",
            "sorry of it?\"\n",
            "\n",
            "\"Yes!.\"\n",
            "\n",
            "She saw the statious for the sturn at the troom, and as how the mistake he\n",
            "felt as the calmiss with his fateres, and had been answered, and too to her\n",
            "sen, a consciousness was a smile.\n",
            "\n",
            "\"Why, a someone and I was to be to be done, would not be afread of a\n",
            "shurters of as a moment. It were at in all, but there was to myself,\"\n",
            "asked Stepan Arkadyevitch, sister as settled in his hands in his must\n",
            "before her face.\n",
            "\n",
            "He wanted to talk of her son, sight of a stream of this works and he come\n",
            "to all the way in the same simply one and still and worked it or how to a\n",
            "minute shades brown first to be sont of the fellow. But in a conversation had\n",
            "been same to hear and all about him in the sound of her horses, and he had\n",
            "not seared a little.\n",
            "\n",
            "\"It is impossible to say this in his been feeling of my coming our\n",
            "often their subject. I was not life for the family as the poster of a breath\n",
            "from the stranges, a posation as a spart.\"\n",
            "\n",
            "Alexey Alexandrovitch, was an instant, and he was sitcing at the same tempt\n",
            "that in that shame to the prince with the position of his farming wife to\n",
            "this to the compressible persons to be supposed by a money to set on\n",
            "this pleck,\" said Stepan Arkadyevitch. \"It's a simple of the well.\n",
            "\n",
            "And if it's a little children and wines with me, but the condrast, but the\n",
            "carriage, and to see it,\" said Stepan Arkadyevitch, \"then her much so fect,\n",
            "seeing the meaning as you are all out in the carreages and he had been\n",
            "cromed. This impression of more interests there can to the pretembles of\n",
            "an that man, and saying what she could not speak.,. What is it to see you\n",
            "to be the meadows of my deal of the princess that have those would be\n",
            "suppiced?\" asked Stepan Arkadyevitch, smiling, and went back to\n",
            "his brother. He seemed to him, and he finished her as as she\n",
            "was aware about him. A country, a point were now. At that \n"
          ],
          "name": "stdout"
        }
      ]
    },
    {
      "cell_type": "code",
      "metadata": {
        "id": "D5CKv3L-8lKg",
        "colab_type": "code",
        "colab": {
          "base_uri": "https://localhost:8080/",
          "height": 221
        },
        "outputId": "51a5e4dc-efe7-47b7-f6e5-4aa77daf69b5"
      },
      "source": [
        "checkpoint = 'checkpoints/i200_l512.ckpt'\n",
        "samp = sample(checkpoint, 1000, lstm_size, len(vocab), prime=\"Far\")\n",
        "print(samp)"
      ],
      "execution_count": 35,
      "outputs": [
        {
          "output_type": "stream",
          "text": [
            "Fart, and\n",
            "hit out shat the hat ins apes is ofele the tith tart he sonterse fromith, whing with we hos to he\n",
            "soringiton, and seiled, anding heress to the hins his sontit of his the chics on hit hint, and his hougt thouls and tho the sale ant the sall wing the wishe and thousstenterstered of in has torigent time on and the thongented ind ous and of tor thard\n",
            "and, she she hard\n",
            "ofthith wast hat has shit ase tont hat the wasd hishid. \n",
            "And her tin she somen teen of the tare singe fas inte sat at her\n",
            "ince the ther tom ithe his att alsing hourd had had wassele wasdind and to her hes its the to cimse to shis sound the sore tith, the sher as in ther hest had shithe fallingele he his he wals there she the the sithen with hit hers in the shrowis the toule the har wittele heredste of\n",
            "inter that ard to calle her, the sind and thin whe sad of the momed in wan and wish whas head to core ho hishand the cimlessed it and and of in at intinting of\n",
            "his hither soult and\n",
            "it the hat to thet sone to he\n",
            "taristers t\n"
          ],
          "name": "stdout"
        }
      ]
    },
    {
      "cell_type": "code",
      "metadata": {
        "id": "8759HYGO8oNn",
        "colab_type": "code",
        "colab": {
          "base_uri": "https://localhost:8080/",
          "height": 204
        },
        "outputId": "edb32cac-7e8f-4129-f827-5b8097c286eb"
      },
      "source": [
        "checkpoint = 'checkpoints/i600_l512.ckpt'\n",
        "samp = sample(checkpoint, 1000, lstm_size, len(vocab), prime=\"Far\")\n",
        "print(samp)"
      ],
      "execution_count": 36,
      "outputs": [
        {
          "output_type": "stream",
          "text": [
            "Farning as a cart and that they.\n",
            "\n",
            "The ploase, a conlly as they wan of it, and what had been steplow him to at allove the colligh, wish and say, to be with the clater,\" she said. \"I dad you was the sand? But'y a leed be must and had been take,. What wish you ase her as hid sore wene... What said they he was allouse.... What wime they say all, and that was now that to the crunter at in the sort the clild of all sering of heres, ald and took over, but is. I day's beare they so was that's a serting as they wine so the motting to all the work, was at the could stenting him havis to be at him.\"\n",
            "\n",
            "Stepal Arkadyevitch was not see a lask in the was and sail\n",
            "of the cantions, the poresion had a stelp him that theyer, he had to see in the complearanters of a marest, and her his\n",
            "charres. She whule sat home her he was to her thisk op of and and sat\n",
            "intenting the way to an his wonters, whom atay ther all to hand a comares as\n",
            "he did not can that was a child,\n",
            "betine have something hears at her as is wall, w\n"
          ],
          "name": "stdout"
        }
      ]
    },
    {
      "cell_type": "code",
      "metadata": {
        "id": "pqNsB9fv8qCM",
        "colab_type": "code",
        "colab": {
          "base_uri": "https://localhost:8080/",
          "height": 401
        },
        "outputId": "00b087df-d80b-4401-c677-9542e265c617"
      },
      "source": [
        "checkpoint = 'checkpoints/i1200_l512.ckpt'\n",
        "samp = sample(checkpoint, 1000, lstm_size, len(vocab), prime=\"Far\")\n",
        "print(samp)"
      ],
      "execution_count": 37,
      "outputs": [
        {
          "output_type": "stream",
          "text": [
            "Farning off her face, she was the princess,\n",
            "and all the telled that he was not the came of seticiation of\n",
            "the same stricted hen there, and as a from thinging on the statting of\n",
            "his face. And there's no dring all the doiling with his face and the\n",
            "people, he said to her shining of, and he saw, a child things of the master\n",
            "of\n",
            "templess that it seemed and sen out of his back in all the prestion of\n",
            "the mother. Have note the consequent the same them a dream, to the\n",
            "sons.\n",
            "\n",
            "\"I am to speak of it. That's\n",
            "to be?\" he said.\n",
            "\n",
            "\"If it tell you with me. It thought it is, and I suppossed you.\n",
            "The measurss the sume as it was a laborer in an inside, a cartiant\n",
            "of his brought?\" he said.\n",
            "\n",
            "\"If it is a person of an orce, and though there would be something in the\n",
            "round of the proncession of her,\" said Alexey Alexandrovitch\n",
            "had not before the prencess of the starding of a sont of the sawes and\n",
            "senst of insuctess in the servant, that\n",
            "she cared that to sut to her all sure anything to the\n",
            "start, the plonce was sore, w\n"
          ],
          "name": "stdout"
        }
      ]
    },
    {
      "cell_type": "code",
      "metadata": {
        "id": "R7ZfKecW8riE",
        "colab_type": "code",
        "colab": {}
      },
      "source": [
        ""
      ],
      "execution_count": 0,
      "outputs": []
    }
  ]
}