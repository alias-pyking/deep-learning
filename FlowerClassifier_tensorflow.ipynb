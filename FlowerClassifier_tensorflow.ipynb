{
  "nbformat": 4,
  "nbformat_minor": 0,
  "metadata": {
    "colab": {
      "name": "FlowerClassifier_tensorflow.ipynb",
      "version": "0.3.2",
      "provenance": [],
      "include_colab_link": true
    },
    "kernelspec": {
      "name": "python3",
      "display_name": "Python 3"
    },
    "accelerator": "GPU"
  },
  "cells": [
    {
      "cell_type": "markdown",
      "metadata": {
        "id": "view-in-github",
        "colab_type": "text"
      },
      "source": [
        "<a href=\"https://colab.research.google.com/github/shubhamsks/deep-learning/blob/master/FlowerClassifier_tensorflow.ipynb\" target=\"_parent\"><img src=\"https://colab.research.google.com/assets/colab-badge.svg\" alt=\"Open In Colab\"/></a>"
      ]
    },
    {
      "cell_type": "code",
      "metadata": {
        "id": "aiI99IC8FdxY",
        "colab_type": "code",
        "colab": {
          "base_uri": "https://localhost:8080/",
          "height": 104
        },
        "outputId": "b8e7575a-65a7-44b6-9438-525911db93d8"
      },
      "source": [
        "!git clone https://github.com/machrisaa/tensorflow-vgg.git tensorflow_vgg"
      ],
      "execution_count": 1,
      "outputs": [
        {
          "output_type": "stream",
          "text": [
            "Cloning into 'tensorflow_vgg'...\n",
            "remote: Enumerating objects: 113, done.\u001b[K\n",
            "Receiving objects:   0% (1/113)   \rReceiving objects:   1% (2/113)   \rReceiving objects:   2% (3/113)   \rReceiving objects:   3% (4/113)   \rReceiving objects:   4% (5/113)   \rReceiving objects:   5% (6/113)   \rReceiving objects:   6% (7/113)   \rReceiving objects:   7% (8/113)   \rReceiving objects:   8% (10/113)   \rReceiving objects:   9% (11/113)   \rReceiving objects:  10% (12/113)   \rReceiving objects:  11% (13/113)   \rReceiving objects:  12% (14/113)   \rReceiving objects:  13% (15/113)   \rReceiving objects:  14% (16/113)   \rReceiving objects:  15% (17/113)   \rReceiving objects:  16% (19/113)   \rReceiving objects:  17% (20/113)   \rReceiving objects:  18% (21/113)   \rReceiving objects:  19% (22/113)   \rReceiving objects:  20% (23/113)   \rReceiving objects:  21% (24/113)   \rReceiving objects:  22% (25/113)   \rReceiving objects:  23% (26/113)   \rReceiving objects:  24% (28/113)   \rReceiving objects:  25% (29/113)   \rReceiving objects:  26% (30/113)   \rReceiving objects:  27% (31/113)   \rReceiving objects:  28% (32/113)   \rReceiving objects:  29% (33/113)   \rReceiving objects:  30% (34/113)   \rReceiving objects:  31% (36/113)   \rReceiving objects:  32% (37/113)   \rReceiving objects:  33% (38/113)   \rReceiving objects:  34% (39/113)   \rReceiving objects:  35% (40/113)   \rremote: Total 113 (delta 0), reused 0 (delta 0), pack-reused 113\u001b[K\n",
            "Receiving objects:  36% (41/113)   \rReceiving objects:  37% (42/113)   \rReceiving objects:  38% (43/113)   \rReceiving objects:  39% (45/113)   \rReceiving objects:  40% (46/113)   \rReceiving objects:  41% (47/113)   \rReceiving objects:  42% (48/113)   \rReceiving objects:  43% (49/113)   \rReceiving objects:  44% (50/113)   \rReceiving objects:  45% (51/113)   \rReceiving objects:  46% (52/113)   \rReceiving objects:  47% (54/113)   \rReceiving objects:  48% (55/113)   \rReceiving objects:  49% (56/113)   \rReceiving objects:  50% (57/113)   \rReceiving objects:  51% (58/113)   \rReceiving objects:  52% (59/113)   \rReceiving objects:  53% (60/113)   \rReceiving objects:  54% (62/113)   \rReceiving objects:  55% (63/113)   \rReceiving objects:  56% (64/113)   \rReceiving objects:  57% (65/113)   \rReceiving objects:  58% (66/113)   \rReceiving objects:  59% (67/113)   \rReceiving objects:  60% (68/113)   \rReceiving objects:  61% (69/113)   \rReceiving objects:  62% (71/113)   \rReceiving objects:  63% (72/113)   \rReceiving objects:  64% (73/113)   \rReceiving objects:  65% (74/113)   \rReceiving objects:  66% (75/113)   \rReceiving objects:  67% (76/113)   \rReceiving objects:  68% (77/113)   \rReceiving objects:  69% (78/113)   \rReceiving objects:  70% (80/113)   \rReceiving objects:  71% (81/113)   \rReceiving objects:  72% (82/113)   \rReceiving objects:  73% (83/113)   \rReceiving objects:  74% (84/113)   \rReceiving objects:  75% (85/113)   \rReceiving objects:  76% (86/113)   \rReceiving objects:  77% (88/113)   \rReceiving objects:  78% (89/113)   \rReceiving objects:  79% (90/113)   \rReceiving objects:  80% (91/113)   \rReceiving objects:  81% (92/113)   \rReceiving objects:  82% (93/113)   \rReceiving objects:  83% (94/113)   \rReceiving objects:  84% (95/113)   \rReceiving objects:  85% (97/113)   \rReceiving objects:  86% (98/113)   \rReceiving objects:  87% (99/113)   \rReceiving objects:  88% (100/113)   \rReceiving objects:  89% (101/113)   \rReceiving objects:  90% (102/113)   \rReceiving objects:  91% (103/113)   \rReceiving objects:  92% (104/113)   \rReceiving objects:  93% (106/113)   \rReceiving objects:  94% (107/113)   \rReceiving objects:  95% (108/113)   \rReceiving objects:  96% (109/113)   \rReceiving objects:  97% (110/113)   \rReceiving objects:  98% (111/113)   \rReceiving objects:  99% (112/113)   \rReceiving objects: 100% (113/113)   \rReceiving objects: 100% (113/113), 56.40 KiB | 5.64 MiB/s, done.\n",
            "Resolving deltas:   0% (0/61)   \rResolving deltas:   1% (1/61)   \rResolving deltas:  26% (16/61)   \rResolving deltas:  36% (22/61)   \rResolving deltas:  37% (23/61)   \rResolving deltas:  49% (30/61)   \rResolving deltas:  57% (35/61)   \rResolving deltas:  62% (38/61)   \rResolving deltas:  70% (43/61)   \rResolving deltas:  83% (51/61)   \rResolving deltas:  90% (55/61)   \rResolving deltas:  91% (56/61)   \rResolving deltas: 100% (61/61)   \rResolving deltas: 100% (61/61), done.\n"
          ],
          "name": "stdout"
        }
      ]
    },
    {
      "cell_type": "code",
      "metadata": {
        "id": "kEJSJu52Fefj",
        "colab_type": "code",
        "colab": {
          "base_uri": "https://localhost:8080/",
          "height": 35
        },
        "outputId": "2e4789f5-a24c-4f1e-98c9-fcd340a9a2db"
      },
      "source": [
        "from urllib.request import urlretrieve\n",
        "from os.path import isfile, isdir\n",
        "from tqdm import tqdm\n",
        "\n",
        "vgg_dir = 'tensorflow_vgg/'\n",
        "# Make sure vgg exists\n",
        "if not isdir(vgg_dir):\n",
        "    raise Exception(\"VGG directory doesn't exist!\")\n",
        "\n",
        "class DLProgress(tqdm):\n",
        "    last_block = 0\n",
        "\n",
        "    def hook(self, block_num=1, block_size=1, total_size=None):\n",
        "        self.total = total_size\n",
        "        self.update((block_num - self.last_block) * block_size)\n",
        "        self.last_block = block_num\n",
        "\n",
        "if not isfile(vgg_dir + \"vgg16.npy\"):\n",
        "    with DLProgress(unit='B', unit_scale=True, miniters=1, desc='VGG16 Parameters') as pbar:\n",
        "        urlretrieve(\n",
        "            'https://s3.amazonaws.com/content.udacity-data.com/nd101/vgg16.npy',#udacity url for pretrained weights\n",
        "            vgg_dir + 'vgg16.npy',\n",
        "            pbar.hook)\n",
        "else:\n",
        "    print(\"Parameter file already exists!\")"
      ],
      "execution_count": 2,
      "outputs": [
        {
          "output_type": "stream",
          "text": [
            "VGG16 Parameters: 553MB [00:12, 45.3MB/s]                           \n"
          ],
          "name": "stderr"
        }
      ]
    },
    {
      "cell_type": "code",
      "metadata": {
        "id": "KKFOy4YXFgr0",
        "colab_type": "code",
        "colab": {
          "base_uri": "https://localhost:8080/",
          "height": 35
        },
        "outputId": "a2e40de0-82ad-4095-ac4c-4dc61dda7636"
      },
      "source": [
        "# getting the flower dataset \n",
        "import tarfile\n",
        "\n",
        "dataset_folder_path = 'flower_photos'\n",
        "\n",
        "class DLProgress(tqdm):\n",
        "    last_block = 0\n",
        "\n",
        "    def hook(self, block_num=1, block_size=1, total_size=None):\n",
        "        self.total = total_size\n",
        "        self.update((block_num - self.last_block) * block_size)\n",
        "        self.last_block = block_num\n",
        "\n",
        "if not isfile('flower_photos.tar.gz'):\n",
        "    with DLProgress(unit='B', unit_scale=True, miniters=1, desc='Flowers Dataset') as pbar:\n",
        "        urlretrieve(\n",
        "            'http://download.tensorflow.org/example_images/flower_photos.tgz',\n",
        "            'flower_photos.tar.gz',\n",
        "            pbar.hook)\n",
        "\n",
        "if not isdir(dataset_folder_path):\n",
        "    with tarfile.open('flower_photos.tar.gz') as tar:\n",
        "        tar.extractall()\n",
        "        tar.close()"
      ],
      "execution_count": 3,
      "outputs": [
        {
          "output_type": "stream",
          "text": [
            "Flowers Dataset: 229MB [00:03, 66.8MB/s]                           \n"
          ],
          "name": "stderr"
        }
      ]
    },
    {
      "cell_type": "code",
      "metadata": {
        "id": "z98xsHxhFkk9",
        "colab_type": "code",
        "colab": {}
      },
      "source": [
        "# preprocessing our dataset \n",
        "# Taking all the images of the dataset and getting the code for each of them\n",
        "import os\n",
        "import tensorflow as tf\n",
        "from  tensorflow_vgg import vgg16\n",
        "from tensorflow_vgg import utils"
      ],
      "execution_count": 0,
      "outputs": []
    },
    {
      "cell_type": "code",
      "metadata": {
        "id": "7qTplw5sFnH9",
        "colab_type": "code",
        "colab": {}
      },
      "source": [
        "data_dir = 'flower_photos/' #data that we downloaded above \n",
        "contents = os.listdir(data_dir)\n",
        "classes = [class_name for class_name in contents if os.path.isdir(data_dir + class_name)] #getting the class of different flowers"
      ],
      "execution_count": 0,
      "outputs": []
    },
    {
      "cell_type": "code",
      "metadata": {
        "id": "Uhkvh1HOFo59",
        "colab_type": "code",
        "colab": {
          "base_uri": "https://localhost:8080/",
          "height": 1000
        },
        "outputId": "78e26a06-1a96-49d5-c376-1482b45ad07e"
      },
      "source": [
        "\n",
        "# Set the batch size higher if you can fit in in your GPU memory\n",
        "batch_size = 10\n",
        "codes_list = []\n",
        "labels = []\n",
        "batch = []\n",
        "\n",
        "codes = None\n",
        "\n",
        "with tf.Session() as sess:\n",
        "    vgg = vgg16.Vgg16()\n",
        "    input_ = tf.placeholder(tf.float32, [None, 224, 224, 3])\n",
        "    with tf.name_scope(\"content_vgg\"):\n",
        "        vgg.build(input_)\n",
        "\n",
        "    for each in classes:\n",
        "        print(\"Starting {} images\".format(each))\n",
        "        class_path = data_dir + each\n",
        "        files = os.listdir(class_path)\n",
        "        for ii, file in enumerate(files, 1):\n",
        "            # Add images to the current batch\n",
        "            # utils.load_image crops the input images for us, from the center\n",
        "            img = utils.load_image(os.path.join(class_path, file))\n",
        "            batch.append(img.reshape((1, 224, 224, 3)))\n",
        "            labels.append(each)\n",
        "            \n",
        "            # Running the batch through the network to get the codes\n",
        "            if ii % batch_size == 0 or ii == len(files):\n",
        "                images = np.concatenate(batch)\n",
        "\n",
        "                feed_dict = {input_: images}\n",
        "                codes_batch = sess.run(vgg.relu6, feed_dict=feed_dict)\n",
        "                \n",
        "                # Here I'm building an array of the codes\n",
        "                if codes is None:\n",
        "                    codes = codes_batch\n",
        "                else:\n",
        "                    codes = np.concatenate((codes, codes_batch))\n",
        "                \n",
        "                # Reset to start building the next batch\n",
        "                batch = []\n",
        "                print('{} images processed'.format(ii))"
      ],
      "execution_count": 5,
      "outputs": [
        {
          "output_type": "stream",
          "text": [
            "/content/tensorflow_vgg/vgg16.npy\n"
          ],
          "name": "stdout"
        },
        {
          "output_type": "stream",
          "text": [
            "WARNING: Logging before flag parsing goes to stderr.\n",
            "W0819 18:18:14.657155 140339494766464 deprecation_wrapper.py:119] From /content/tensorflow_vgg/vgg16.py:90: The name tf.variable_scope is deprecated. Please use tf.compat.v1.variable_scope instead.\n",
            "\n",
            "W0819 18:18:14.669405 140339494766464 deprecation_wrapper.py:119] From /content/tensorflow_vgg/vgg16.py:87: The name tf.nn.max_pool is deprecated. Please use tf.nn.max_pool2d instead.\n",
            "\n"
          ],
          "name": "stderr"
        },
        {
          "output_type": "stream",
          "text": [
            "npy file loaded\n",
            "build model started\n",
            "build model finished: 1s\n",
            "Starting sunflowers images\n",
            "10 images processed\n",
            "20 images processed\n",
            "30 images processed\n",
            "40 images processed\n",
            "50 images processed\n",
            "60 images processed\n",
            "70 images processed\n",
            "80 images processed\n",
            "90 images processed\n",
            "100 images processed\n",
            "110 images processed\n",
            "120 images processed\n",
            "130 images processed\n",
            "140 images processed\n",
            "150 images processed\n",
            "160 images processed\n",
            "170 images processed\n",
            "180 images processed\n",
            "190 images processed\n",
            "200 images processed\n",
            "210 images processed\n",
            "220 images processed\n",
            "230 images processed\n",
            "240 images processed\n",
            "250 images processed\n",
            "260 images processed\n",
            "270 images processed\n",
            "280 images processed\n",
            "290 images processed\n",
            "300 images processed\n",
            "310 images processed\n",
            "320 images processed\n",
            "330 images processed\n",
            "340 images processed\n",
            "350 images processed\n",
            "360 images processed\n",
            "370 images processed\n",
            "380 images processed\n",
            "390 images processed\n",
            "400 images processed\n",
            "410 images processed\n",
            "420 images processed\n",
            "430 images processed\n",
            "440 images processed\n",
            "450 images processed\n",
            "460 images processed\n",
            "470 images processed\n",
            "480 images processed\n",
            "490 images processed\n",
            "500 images processed\n",
            "510 images processed\n",
            "520 images processed\n",
            "530 images processed\n",
            "540 images processed\n",
            "550 images processed\n",
            "560 images processed\n",
            "570 images processed\n",
            "580 images processed\n",
            "590 images processed\n",
            "600 images processed\n",
            "610 images processed\n",
            "620 images processed\n",
            "630 images processed\n",
            "640 images processed\n",
            "650 images processed\n",
            "660 images processed\n",
            "670 images processed\n",
            "680 images processed\n",
            "690 images processed\n",
            "699 images processed\n",
            "Starting daisy images\n",
            "10 images processed\n",
            "20 images processed\n",
            "30 images processed\n",
            "40 images processed\n",
            "50 images processed\n",
            "60 images processed\n",
            "70 images processed\n",
            "80 images processed\n",
            "90 images processed\n",
            "100 images processed\n",
            "110 images processed\n",
            "120 images processed\n",
            "130 images processed\n",
            "140 images processed\n",
            "150 images processed\n",
            "160 images processed\n",
            "170 images processed\n",
            "180 images processed\n",
            "190 images processed\n",
            "200 images processed\n",
            "210 images processed\n",
            "220 images processed\n",
            "230 images processed\n",
            "240 images processed\n",
            "250 images processed\n",
            "260 images processed\n",
            "270 images processed\n",
            "280 images processed\n",
            "290 images processed\n",
            "300 images processed\n",
            "310 images processed\n",
            "320 images processed\n",
            "330 images processed\n",
            "340 images processed\n",
            "350 images processed\n",
            "360 images processed\n",
            "370 images processed\n",
            "380 images processed\n",
            "390 images processed\n",
            "400 images processed\n",
            "410 images processed\n",
            "420 images processed\n",
            "430 images processed\n",
            "440 images processed\n",
            "450 images processed\n",
            "460 images processed\n",
            "470 images processed\n",
            "480 images processed\n",
            "490 images processed\n",
            "500 images processed\n",
            "510 images processed\n",
            "520 images processed\n",
            "530 images processed\n",
            "540 images processed\n",
            "550 images processed\n",
            "560 images processed\n",
            "570 images processed\n",
            "580 images processed\n",
            "590 images processed\n",
            "600 images processed\n",
            "610 images processed\n",
            "620 images processed\n",
            "630 images processed\n",
            "633 images processed\n",
            "Starting roses images\n",
            "10 images processed\n",
            "20 images processed\n",
            "30 images processed\n",
            "40 images processed\n",
            "50 images processed\n",
            "60 images processed\n",
            "70 images processed\n",
            "80 images processed\n",
            "90 images processed\n",
            "100 images processed\n",
            "110 images processed\n",
            "120 images processed\n",
            "130 images processed\n",
            "140 images processed\n",
            "150 images processed\n",
            "160 images processed\n",
            "170 images processed\n",
            "180 images processed\n",
            "190 images processed\n",
            "200 images processed\n",
            "210 images processed\n",
            "220 images processed\n",
            "230 images processed\n",
            "240 images processed\n",
            "250 images processed\n",
            "260 images processed\n",
            "270 images processed\n",
            "280 images processed\n",
            "290 images processed\n",
            "300 images processed\n",
            "310 images processed\n",
            "320 images processed\n",
            "330 images processed\n",
            "340 images processed\n",
            "350 images processed\n",
            "360 images processed\n",
            "370 images processed\n",
            "380 images processed\n",
            "390 images processed\n",
            "400 images processed\n",
            "410 images processed\n",
            "420 images processed\n",
            "430 images processed\n",
            "440 images processed\n",
            "450 images processed\n",
            "460 images processed\n",
            "470 images processed\n",
            "480 images processed\n",
            "490 images processed\n",
            "500 images processed\n",
            "510 images processed\n",
            "520 images processed\n",
            "530 images processed\n",
            "540 images processed\n",
            "550 images processed\n",
            "560 images processed\n",
            "570 images processed\n",
            "580 images processed\n",
            "590 images processed\n",
            "600 images processed\n",
            "610 images processed\n",
            "620 images processed\n",
            "630 images processed\n",
            "640 images processed\n",
            "641 images processed\n",
            "Starting tulips images\n",
            "10 images processed\n",
            "20 images processed\n",
            "30 images processed\n",
            "40 images processed\n",
            "50 images processed\n",
            "60 images processed\n",
            "70 images processed\n",
            "80 images processed\n",
            "90 images processed\n",
            "100 images processed\n",
            "110 images processed\n",
            "120 images processed\n",
            "130 images processed\n",
            "140 images processed\n",
            "150 images processed\n",
            "160 images processed\n",
            "170 images processed\n",
            "180 images processed\n",
            "190 images processed\n",
            "200 images processed\n",
            "210 images processed\n",
            "220 images processed\n",
            "230 images processed\n",
            "240 images processed\n",
            "250 images processed\n",
            "260 images processed\n",
            "270 images processed\n",
            "280 images processed\n",
            "290 images processed\n",
            "300 images processed\n",
            "310 images processed\n",
            "320 images processed\n",
            "330 images processed\n",
            "340 images processed\n",
            "350 images processed\n",
            "360 images processed\n",
            "370 images processed\n",
            "380 images processed\n",
            "390 images processed\n",
            "400 images processed\n",
            "410 images processed\n",
            "420 images processed\n",
            "430 images processed\n",
            "440 images processed\n",
            "450 images processed\n",
            "460 images processed\n",
            "470 images processed\n",
            "480 images processed\n",
            "490 images processed\n",
            "500 images processed\n",
            "510 images processed\n",
            "520 images processed\n",
            "530 images processed\n",
            "540 images processed\n",
            "550 images processed\n",
            "560 images processed\n",
            "570 images processed\n",
            "580 images processed\n",
            "590 images processed\n",
            "600 images processed\n",
            "610 images processed\n",
            "620 images processed\n",
            "630 images processed\n",
            "640 images processed\n",
            "650 images processed\n",
            "660 images processed\n",
            "670 images processed\n",
            "680 images processed\n",
            "690 images processed\n",
            "700 images processed\n",
            "710 images processed\n",
            "720 images processed\n",
            "730 images processed\n",
            "740 images processed\n",
            "750 images processed\n",
            "760 images processed\n",
            "770 images processed\n",
            "780 images processed\n",
            "790 images processed\n",
            "799 images processed\n",
            "Starting dandelion images\n",
            "10 images processed\n",
            "20 images processed\n",
            "30 images processed\n",
            "40 images processed\n",
            "50 images processed\n",
            "60 images processed\n",
            "70 images processed\n",
            "80 images processed\n",
            "90 images processed\n",
            "100 images processed\n",
            "110 images processed\n",
            "120 images processed\n",
            "130 images processed\n",
            "140 images processed\n",
            "150 images processed\n",
            "160 images processed\n",
            "170 images processed\n",
            "180 images processed\n",
            "190 images processed\n",
            "200 images processed\n",
            "210 images processed\n",
            "220 images processed\n",
            "230 images processed\n",
            "240 images processed\n",
            "250 images processed\n",
            "260 images processed\n",
            "270 images processed\n",
            "280 images processed\n",
            "290 images processed\n",
            "300 images processed\n",
            "310 images processed\n",
            "320 images processed\n",
            "330 images processed\n",
            "340 images processed\n",
            "350 images processed\n",
            "360 images processed\n",
            "370 images processed\n",
            "380 images processed\n",
            "390 images processed\n",
            "400 images processed\n",
            "410 images processed\n",
            "420 images processed\n",
            "430 images processed\n",
            "440 images processed\n",
            "450 images processed\n",
            "460 images processed\n",
            "470 images processed\n",
            "480 images processed\n",
            "490 images processed\n",
            "500 images processed\n",
            "510 images processed\n",
            "520 images processed\n",
            "530 images processed\n",
            "540 images processed\n",
            "550 images processed\n",
            "560 images processed\n",
            "570 images processed\n",
            "580 images processed\n",
            "590 images processed\n",
            "600 images processed\n",
            "610 images processed\n",
            "620 images processed\n",
            "630 images processed\n",
            "640 images processed\n",
            "650 images processed\n",
            "660 images processed\n",
            "670 images processed\n",
            "680 images processed\n",
            "690 images processed\n",
            "700 images processed\n",
            "710 images processed\n",
            "720 images processed\n",
            "730 images processed\n",
            "740 images processed\n",
            "750 images processed\n",
            "760 images processed\n",
            "770 images processed\n",
            "780 images processed\n",
            "790 images processed\n",
            "800 images processed\n",
            "810 images processed\n",
            "820 images processed\n",
            "830 images processed\n",
            "840 images processed\n",
            "850 images processed\n",
            "860 images processed\n",
            "870 images processed\n",
            "880 images processed\n",
            "890 images processed\n",
            "898 images processed\n"
          ],
          "name": "stdout"
        }
      ]
    },
    {
      "cell_type": "code",
      "metadata": {
        "id": "aarQd5TuFtR7",
        "colab_type": "code",
        "colab": {}
      },
      "source": [
        "# write codes to file\n",
        "with open('codes', 'w') as f:\n",
        "    codes.tofile(f)\n",
        "    \n",
        "# write labels to file\n",
        "import csv\n",
        "with open('labels', 'w') as f:\n",
        "    writer = csv.writer(f, delimiter='\\n')\n",
        "    writer.writerow(labels)"
      ],
      "execution_count": 0,
      "outputs": []
    },
    {
      "cell_type": "code",
      "metadata": {
        "id": "IHXzOjf1HE-q",
        "colab_type": "code",
        "colab": {}
      },
      "source": [
        "# read codes and labels from file\n",
        "import csv\n",
        "\n",
        "with open('labels') as f:\n",
        "    reader = csv.reader(f, delimiter='\\n')\n",
        "    labels = np.array([each for each in reader if len(each) > 0]).squeeze()\n",
        "with open('codes') as f:\n",
        "    codes = np.fromfile(f, dtype=np.float32)\n",
        "    codes = codes.reshape((len(labels), -1))"
      ],
      "execution_count": 0,
      "outputs": []
    },
    {
      "cell_type": "code",
      "metadata": {
        "id": "f1y1DEkvHGcj",
        "colab_type": "code",
        "colab": {
          "base_uri": "https://localhost:8080/",
          "height": 35
        },
        "outputId": "f0487a36-840d-4e28-f53a-12349d423f91"
      },
      "source": [
        "labels.shape"
      ],
      "execution_count": 8,
      "outputs": [
        {
          "output_type": "execute_result",
          "data": {
            "text/plain": [
              "(3670,)"
            ]
          },
          "metadata": {
            "tags": []
          },
          "execution_count": 8
        }
      ]
    },
    {
      "cell_type": "code",
      "metadata": {
        "id": "YbpTv-ahHIav",
        "colab_type": "code",
        "colab": {}
      },
      "source": [
        "# Preprocessing the labels (one hot encoding)\n",
        "from sklearn.preprocessing import LabelBinarizer\n",
        "lb = LabelBinarizer()\n",
        "lb.fit(labels)\n",
        "labels_vecs = lb.transform(labels)"
      ],
      "execution_count": 0,
      "outputs": []
    },
    {
      "cell_type": "code",
      "metadata": {
        "id": "HnPTqJefHJuq",
        "colab_type": "code",
        "colab": {}
      },
      "source": [
        "from sklearn.model_selection import StratifiedShuffleSplit\n",
        "\n",
        "ss = StratifiedShuffleSplit(n_splits = 1, test_size = 0.2)\n",
        "\n",
        "train_idx, val_idx = next(ss.split(codes, labels_vecs))"
      ],
      "execution_count": 0,
      "outputs": []
    },
    {
      "cell_type": "code",
      "metadata": {
        "id": "04rD2AsfHLar",
        "colab_type": "code",
        "colab": {}
      },
      "source": [
        "half_val_len = int(len(val_idx)/2)\n",
        "val_idx, test_idx = val_idx[:half_val_len], val_idx[half_val_len:]\n",
        "\n",
        "train_x, train_y = codes[train_idx], labels_vecs[train_idx]\n",
        "val_x, val_y = codes[val_idx], labels_vecs[val_idx]\n",
        "test_x, test_y = codes[test_idx], labels_vecs[test_idx]"
      ],
      "execution_count": 0,
      "outputs": []
    },
    {
      "cell_type": "code",
      "metadata": {
        "id": "Gv7ojwsSHOPC",
        "colab_type": "code",
        "colab": {
          "base_uri": "https://localhost:8080/",
          "height": 69
        },
        "outputId": "d0c5b6a7-5895-4d90-f04c-54268367fc98"
      },
      "source": [
        "print('Train shapes (x, y) ',train_x.shape, train_y.shape)\n",
        "print('Validation shapes(x, y) ',val_x.shape, val_y.shape)\n",
        "print('Test shapes (x, y ) ',test_x.shape, test_y.shape)"
      ],
      "execution_count": 12,
      "outputs": [
        {
          "output_type": "stream",
          "text": [
            "Train shapes (x, y)  (2936, 4096) (2936, 5)\n",
            "Validation shapes(x, y)  (367, 4096) (367, 5)\n",
            "Test shapes (x, y )  (367, 4096) (367, 5)\n"
          ],
          "name": "stdout"
        }
      ]
    },
    {
      "cell_type": "code",
      "metadata": {
        "id": "Eg5CD-CrHP2q",
        "colab_type": "code",
        "colab": {
          "base_uri": "https://localhost:8080/",
          "height": 315
        },
        "outputId": "d4cf3a98-6373-4182-da3a-427620e4eb2a"
      },
      "source": [
        "inputs_ = tf.placeholder(tf.float32, shape=[None, codes.shape[1]])\n",
        "labels_ = tf.placeholder(tf.int64, shape=[None, labels_vecs.shape[1]])\n",
        "\n",
        "fc = tf.contrib.layers.fully_connected(inputs_, 256)\n",
        "    \n",
        "logits = tf.contrib.layers.fully_connected(fc, labels_vecs.shape[1], activation_fn=None)\n",
        "cross_entropy = tf.nn.softmax_cross_entropy_with_logits(labels=labels_, logits=logits)\n",
        "cost = tf.reduce_mean(cross_entropy)\n",
        "\n",
        "optimizer = tf.train.AdamOptimizer().minimize(cost)\n",
        "\n",
        "predicted = tf.nn.softmax(logits)\n",
        "correct_pred = tf.equal(tf.argmax(predicted, 1), tf.argmax(labels_, 1))\n",
        "accuracy = tf.reduce_mean(tf.cast(correct_pred, tf.float32))"
      ],
      "execution_count": 13,
      "outputs": [
        {
          "output_type": "stream",
          "text": [
            "W0819 18:23:25.330814 140339494766464 lazy_loader.py:50] \n",
            "The TensorFlow contrib module will not be included in TensorFlow 2.0.\n",
            "For more information, please see:\n",
            "  * https://github.com/tensorflow/community/blob/master/rfcs/20180907-contrib-sunset.md\n",
            "  * https://github.com/tensorflow/addons\n",
            "  * https://github.com/tensorflow/io (for I/O related ops)\n",
            "If you depend on functionality not listed there, please file an issue.\n",
            "\n",
            "W0819 18:23:25.777909 140339494766464 deprecation.py:323] From <ipython-input-13-9974f297d78b>:7: softmax_cross_entropy_with_logits (from tensorflow.python.ops.nn_ops) is deprecated and will be removed in a future version.\n",
            "Instructions for updating:\n",
            "\n",
            "Future major versions of TensorFlow will allow gradients to flow\n",
            "into the labels input on backprop by default.\n",
            "\n",
            "See `tf.nn.softmax_cross_entropy_with_logits_v2`.\n",
            "\n"
          ],
          "name": "stderr"
        }
      ]
    },
    {
      "cell_type": "code",
      "metadata": {
        "id": "x2JTJtJoHobw",
        "colab_type": "code",
        "colab": {}
      },
      "source": [
        "def get_batches(x, y, n_batches=10):\n",
        "    \"\"\" Return a generator that yields batches from arrays x and y. \"\"\"\n",
        "    batch_size = len(x)//n_batches\n",
        "    \n",
        "    for ii in range(0, n_batches*batch_size, batch_size):\n",
        "        # If we're not on the last batch, grab data with size batch_size\n",
        "        if ii != (n_batches-1)*batch_size:\n",
        "            X, Y = x[ii: ii+batch_size], y[ii: ii+batch_size] \n",
        "        # On the last batch, grab the rest of the data\n",
        "        else:\n",
        "            X, Y = x[ii:], y[ii:]\n",
        "        # I love generators\n",
        "        yield X, Y"
      ],
      "execution_count": 0,
      "outputs": []
    },
    {
      "cell_type": "code",
      "metadata": {
        "id": "p69-xc6RIUJH",
        "colab_type": "code",
        "colab": {
          "base_uri": "https://localhost:8080/",
          "height": 1000
        },
        "outputId": "7a3bc4bd-c9b8-4e84-a251-d4534c54cc60"
      },
      "source": [
        "epochs = 10\n",
        "iteration = 0\n",
        "saver = tf.train.Saver()\n",
        "with tf.Session() as sess:\n",
        "    \n",
        "    sess.run(tf.global_variables_initializer())\n",
        "    for e in range(epochs):\n",
        "        for x, y in get_batches(train_x, train_y):\n",
        "            feed = {inputs_: x,\n",
        "                    labels_: y}\n",
        "            loss, _ = sess.run([cost, optimizer], feed_dict=feed)\n",
        "            print(\"Epoch: {}/{}\".format(e+1, epochs),\n",
        "                  \"Iteration: {}\".format(iteration),\n",
        "                  \"Training loss: {:.5f}\".format(loss))\n",
        "            iteration += 1\n",
        "            \n",
        "            if iteration % 5 == 0:\n",
        "                feed = {inputs_: val_x,\n",
        "                        labels_: val_y}\n",
        "                val_acc = sess.run(accuracy, feed_dict=feed)\n",
        "                print(\"Epoch: {}/{}\".format(e, epochs),\n",
        "                      \"Iteration: {}\".format(iteration),\n",
        "                      \"Validation Acc: {:.4f}\".format(val_acc))\n",
        "    saver.save(sess, \"checkpoints/flowers.ckpt\")"
      ],
      "execution_count": 15,
      "outputs": [
        {
          "output_type": "stream",
          "text": [
            "Epoch: 1/10 Iteration: 0 Training loss: 10.61254\n",
            "Epoch: 1/10 Iteration: 1 Training loss: 21.31663\n",
            "Epoch: 1/10 Iteration: 2 Training loss: 22.21582\n",
            "Epoch: 1/10 Iteration: 3 Training loss: 14.87845\n",
            "Epoch: 1/10 Iteration: 4 Training loss: 6.43992\n",
            "Epoch: 0/10 Iteration: 5 Validation Acc: 0.5995\n",
            "Epoch: 1/10 Iteration: 5 Training loss: 4.52980\n",
            "Epoch: 1/10 Iteration: 6 Training loss: 3.85411\n",
            "Epoch: 1/10 Iteration: 7 Training loss: 2.03420\n",
            "Epoch: 1/10 Iteration: 8 Training loss: 3.20964\n",
            "Epoch: 1/10 Iteration: 9 Training loss: 2.75540\n",
            "Epoch: 0/10 Iteration: 10 Validation Acc: 0.5940\n",
            "Epoch: 2/10 Iteration: 10 Training loss: 3.12011\n",
            "Epoch: 2/10 Iteration: 11 Training loss: 2.25866\n",
            "Epoch: 2/10 Iteration: 12 Training loss: 2.25774\n",
            "Epoch: 2/10 Iteration: 13 Training loss: 1.38122\n",
            "Epoch: 2/10 Iteration: 14 Training loss: 1.11349\n",
            "Epoch: 1/10 Iteration: 15 Validation Acc: 0.8311\n",
            "Epoch: 2/10 Iteration: 15 Training loss: 0.82920\n",
            "Epoch: 2/10 Iteration: 16 Training loss: 0.99671\n",
            "Epoch: 2/10 Iteration: 17 Training loss: 0.88005\n",
            "Epoch: 2/10 Iteration: 18 Training loss: 1.10452\n",
            "Epoch: 2/10 Iteration: 19 Training loss: 0.68453\n",
            "Epoch: 1/10 Iteration: 20 Validation Acc: 0.7820\n",
            "Epoch: 3/10 Iteration: 20 Training loss: 0.83594\n",
            "Epoch: 3/10 Iteration: 21 Training loss: 0.77122\n",
            "Epoch: 3/10 Iteration: 22 Training loss: 0.74299\n",
            "Epoch: 3/10 Iteration: 23 Training loss: 0.58567\n",
            "Epoch: 3/10 Iteration: 24 Training loss: 0.72627\n",
            "Epoch: 2/10 Iteration: 25 Validation Acc: 0.8038\n",
            "Epoch: 3/10 Iteration: 25 Training loss: 0.55446\n",
            "Epoch: 3/10 Iteration: 26 Training loss: 0.58516\n",
            "Epoch: 3/10 Iteration: 27 Training loss: 0.53097\n",
            "Epoch: 3/10 Iteration: 28 Training loss: 0.38374\n",
            "Epoch: 3/10 Iteration: 29 Training loss: 0.25166\n",
            "Epoch: 2/10 Iteration: 30 Validation Acc: 0.8420\n",
            "Epoch: 4/10 Iteration: 30 Training loss: 0.39651\n",
            "Epoch: 4/10 Iteration: 31 Training loss: 0.23992\n",
            "Epoch: 4/10 Iteration: 32 Training loss: 0.34480\n",
            "Epoch: 4/10 Iteration: 33 Training loss: 0.28501\n",
            "Epoch: 4/10 Iteration: 34 Training loss: 0.33682\n",
            "Epoch: 3/10 Iteration: 35 Validation Acc: 0.8501\n",
            "Epoch: 4/10 Iteration: 35 Training loss: 0.31937\n",
            "Epoch: 4/10 Iteration: 36 Training loss: 0.42446\n",
            "Epoch: 4/10 Iteration: 37 Training loss: 0.30943\n",
            "Epoch: 4/10 Iteration: 38 Training loss: 0.28802\n",
            "Epoch: 4/10 Iteration: 39 Training loss: 0.18943\n",
            "Epoch: 3/10 Iteration: 40 Validation Acc: 0.8529\n",
            "Epoch: 5/10 Iteration: 40 Training loss: 0.25890\n",
            "Epoch: 5/10 Iteration: 41 Training loss: 0.15915\n",
            "Epoch: 5/10 Iteration: 42 Training loss: 0.22667\n",
            "Epoch: 5/10 Iteration: 43 Training loss: 0.18553\n",
            "Epoch: 5/10 Iteration: 44 Training loss: 0.22018\n",
            "Epoch: 4/10 Iteration: 45 Validation Acc: 0.8529\n",
            "Epoch: 5/10 Iteration: 45 Training loss: 0.20967\n",
            "Epoch: 5/10 Iteration: 46 Training loss: 0.27850\n",
            "Epoch: 5/10 Iteration: 47 Training loss: 0.18034\n",
            "Epoch: 5/10 Iteration: 48 Training loss: 0.14490\n",
            "Epoch: 5/10 Iteration: 49 Training loss: 0.11608\n",
            "Epoch: 4/10 Iteration: 50 Validation Acc: 0.8719\n",
            "Epoch: 6/10 Iteration: 50 Training loss: 0.18022\n",
            "Epoch: 6/10 Iteration: 51 Training loss: 0.12641\n",
            "Epoch: 6/10 Iteration: 52 Training loss: 0.15158\n",
            "Epoch: 6/10 Iteration: 53 Training loss: 0.11166\n",
            "Epoch: 6/10 Iteration: 54 Training loss: 0.18663\n",
            "Epoch: 5/10 Iteration: 55 Validation Acc: 0.8665\n",
            "Epoch: 6/10 Iteration: 55 Training loss: 0.13558\n",
            "Epoch: 6/10 Iteration: 56 Training loss: 0.22540\n",
            "Epoch: 6/10 Iteration: 57 Training loss: 0.14286\n",
            "Epoch: 6/10 Iteration: 58 Training loss: 0.09989\n",
            "Epoch: 6/10 Iteration: 59 Training loss: 0.09637\n",
            "Epoch: 5/10 Iteration: 60 Validation Acc: 0.8665\n",
            "Epoch: 7/10 Iteration: 60 Training loss: 0.11285\n",
            "Epoch: 7/10 Iteration: 61 Training loss: 0.08188\n",
            "Epoch: 7/10 Iteration: 62 Training loss: 0.11250\n",
            "Epoch: 7/10 Iteration: 63 Training loss: 0.09047\n",
            "Epoch: 7/10 Iteration: 64 Training loss: 0.11922\n",
            "Epoch: 6/10 Iteration: 65 Validation Acc: 0.8747\n",
            "Epoch: 7/10 Iteration: 65 Training loss: 0.10302\n",
            "Epoch: 7/10 Iteration: 66 Training loss: 0.17554\n",
            "Epoch: 7/10 Iteration: 67 Training loss: 0.08532\n",
            "Epoch: 7/10 Iteration: 68 Training loss: 0.06414\n",
            "Epoch: 7/10 Iteration: 69 Training loss: 0.06542\n",
            "Epoch: 6/10 Iteration: 70 Validation Acc: 0.8801\n",
            "Epoch: 8/10 Iteration: 70 Training loss: 0.07919\n",
            "Epoch: 8/10 Iteration: 71 Training loss: 0.05314\n",
            "Epoch: 8/10 Iteration: 72 Training loss: 0.08870\n",
            "Epoch: 8/10 Iteration: 73 Training loss: 0.06832\n",
            "Epoch: 8/10 Iteration: 74 Training loss: 0.08784\n",
            "Epoch: 7/10 Iteration: 75 Validation Acc: 0.8747\n",
            "Epoch: 8/10 Iteration: 75 Training loss: 0.08633\n",
            "Epoch: 8/10 Iteration: 76 Training loss: 0.13593\n",
            "Epoch: 8/10 Iteration: 77 Training loss: 0.06508\n",
            "Epoch: 8/10 Iteration: 78 Training loss: 0.04843\n",
            "Epoch: 8/10 Iteration: 79 Training loss: 0.04753\n",
            "Epoch: 7/10 Iteration: 80 Validation Acc: 0.8828\n",
            "Epoch: 9/10 Iteration: 80 Training loss: 0.05984\n",
            "Epoch: 9/10 Iteration: 81 Training loss: 0.04394\n",
            "Epoch: 9/10 Iteration: 82 Training loss: 0.06567\n",
            "Epoch: 9/10 Iteration: 83 Training loss: 0.05338\n",
            "Epoch: 9/10 Iteration: 84 Training loss: 0.05920\n",
            "Epoch: 8/10 Iteration: 85 Validation Acc: 0.8801\n",
            "Epoch: 9/10 Iteration: 85 Training loss: 0.06029\n",
            "Epoch: 9/10 Iteration: 86 Training loss: 0.10485\n",
            "Epoch: 9/10 Iteration: 87 Training loss: 0.04921\n",
            "Epoch: 9/10 Iteration: 88 Training loss: 0.03764\n",
            "Epoch: 9/10 Iteration: 89 Training loss: 0.04032\n",
            "Epoch: 8/10 Iteration: 90 Validation Acc: 0.8774\n",
            "Epoch: 10/10 Iteration: 90 Training loss: 0.05270\n",
            "Epoch: 10/10 Iteration: 91 Training loss: 0.03461\n",
            "Epoch: 10/10 Iteration: 92 Training loss: 0.04684\n",
            "Epoch: 10/10 Iteration: 93 Training loss: 0.04308\n",
            "Epoch: 10/10 Iteration: 94 Training loss: 0.04314\n",
            "Epoch: 9/10 Iteration: 95 Validation Acc: 0.8774\n",
            "Epoch: 10/10 Iteration: 95 Training loss: 0.04689\n",
            "Epoch: 10/10 Iteration: 96 Training loss: 0.08084\n",
            "Epoch: 10/10 Iteration: 97 Training loss: 0.04014\n",
            "Epoch: 10/10 Iteration: 98 Training loss: 0.03019\n",
            "Epoch: 10/10 Iteration: 99 Training loss: 0.03062\n",
            "Epoch: 9/10 Iteration: 100 Validation Acc: 0.8801\n"
          ],
          "name": "stdout"
        }
      ]
    },
    {
      "cell_type": "code",
      "metadata": {
        "id": "1MNwQBt7IcfP",
        "colab_type": "code",
        "colab": {
          "base_uri": "https://localhost:8080/",
          "height": 107
        },
        "outputId": "73f003eb-3da5-419e-880e-46c49fe808b1"
      },
      "source": [
        "with tf.Session() as sess:\n",
        "    saver.restore(sess, tf.train.latest_checkpoint('checkpoints'))\n",
        "    \n",
        "    feed = {inputs_: test_x,\n",
        "            labels_: test_y}\n",
        "    test_acc = sess.run(accuracy, feed_dict=feed)\n",
        "    print(\"Test accuracy: {:.4f}\".format(test_acc))"
      ],
      "execution_count": 16,
      "outputs": [
        {
          "output_type": "stream",
          "text": [
            "W0819 18:28:10.014432 140339494766464 deprecation.py:323] From /usr/local/lib/python3.6/dist-packages/tensorflow/python/training/saver.py:1276: checkpoint_exists (from tensorflow.python.training.checkpoint_management) is deprecated and will be removed in a future version.\n",
            "Instructions for updating:\n",
            "Use standard file APIs to check for files with this prefix.\n"
          ],
          "name": "stderr"
        },
        {
          "output_type": "stream",
          "text": [
            "Test accuracy: 0.8856\n"
          ],
          "name": "stdout"
        }
      ]
    },
    {
      "cell_type": "code",
      "metadata": {
        "id": "WZ8j4dofI9nB",
        "colab_type": "code",
        "colab": {}
      },
      "source": [
        "%matplotlib inline\n",
        "\n",
        "import matplotlib.pyplot as plt\n",
        "import cv2"
      ],
      "execution_count": 0,
      "outputs": []
    },
    {
      "cell_type": "code",
      "metadata": {
        "id": "dpcoj2LrIvCH",
        "colab_type": "code",
        "colab": {
          "base_uri": "https://localhost:8080/",
          "height": 287
        },
        "outputId": "e5460969-d3ff-41dc-8c08-74386cea87b3"
      },
      "source": [
        "test_img_path = 'yellow.jpeg'\n",
        "test_img = cv2.imread(test_img_path)\n",
        "plt.imshow(test_img,cmap='BrBG')"
      ],
      "execution_count": 32,
      "outputs": [
        {
          "output_type": "execute_result",
          "data": {
            "text/plain": [
              "<matplotlib.image.AxesImage at 0x7fa29eb649b0>"
            ]
          },
          "metadata": {
            "tags": []
          },
          "execution_count": 32
        },
        {
          "output_type": "display_data",
          "data": {
            "image/png": "[encoded data removed]",
            "text/plain": [
              "<Figure size 432x288 with 1 Axes>"
            ]
          },
          "metadata": {
            "tags": []
          }
        }
      ]
    },
    {
      "cell_type": "code",
      "metadata": {
        "id": "K5WPSKLGI2N4",
        "colab_type": "code",
        "colab": {
          "base_uri": "https://localhost:8080/",
          "height": 87
        },
        "outputId": "500ba90a-ff3a-46aa-fe6b-0aaf4bb74c1b"
      },
      "source": [
        "# Run this cell if you don't have a vgg graph built\n",
        "with tf.Session() as sess:\n",
        "    input_ = tf.placeholder(tf.float32, [None, 224, 224, 3])\n",
        "    vgg = vgg16.Vgg16()\n",
        "    vgg.build(input_)"
      ],
      "execution_count": 33,
      "outputs": [
        {
          "output_type": "stream",
          "text": [
            "/content/tensorflow_vgg/vgg16.npy\n",
            "npy file loaded\n",
            "build model started\n",
            "build model finished: 1s\n"
          ],
          "name": "stdout"
        }
      ]
    },
    {
      "cell_type": "code",
      "metadata": {
        "id": "Inl6ZNgmI2ee",
        "colab_type": "code",
        "colab": {}
      },
      "source": [
        "with tf.Session() as sess:\n",
        "    img = utils.load_image(test_img_path)\n",
        "    img = img.reshape((1, 224, 224, 3))\n",
        "\n",
        "    feed_dict = {input_: img}\n",
        "    code = sess.run(vgg.relu6, feed_dict=feed_dict)\n",
        "        \n",
        "saver = tf.train.Saver()\n",
        "with tf.Session() as sess:\n",
        "    saver.restore(sess, tf.train.latest_checkpoint('checkpoints'))\n",
        "    \n",
        "    feed = {inputs_: code}\n",
        "    prediction = sess.run(predicted, feed_dict=feed).squeeze()"
      ],
      "execution_count": 0,
      "outputs": []
    },
    {
      "cell_type": "code",
      "metadata": {
        "id": "2ZT-3tw3KTPj",
        "colab_type": "code",
        "colab": {
          "base_uri": "https://localhost:8080/",
          "height": 287
        },
        "outputId": "ce397f6a-d1a2-4901-a275-b57ee6af6d97"
      },
      "source": [
        "plt.imshow(test_img)"
      ],
      "execution_count": 35,
      "outputs": [
        {
          "output_type": "execute_result",
          "data": {
            "text/plain": [
              "<matplotlib.image.AxesImage at 0x7fa29ea7fa90>"
            ]
          },
          "metadata": {
            "tags": []
          },
          "execution_count": 35
        },
        {
          "output_type": "display_data",
          "data": {
            "image/png": "[encoded data removed]",
            "text/plain": [
              "<Figure size 432x288 with 1 Axes>"
            ]
          },
          "metadata": {
            "tags": []
          }
        }
      ]
    },
    {
      "cell_type": "code",
      "metadata": {
        "id": "Zu6m81lVKbCO",
        "colab_type": "code",
        "colab": {
          "base_uri": "https://localhost:8080/",
          "height": 269
        },
        "outputId": "0af9dca7-528c-4cdd-8967-e8a7147b45ba"
      },
      "source": [
        "plt.barh(np.arange(5), prediction)\n",
        "_ = plt.yticks(np.arange(5), lb.classes_)"
      ],
      "execution_count": 36,
      "outputs": [
        {
          "output_type": "display_data",
          "data": {
            "image/png": "[encoded data removed]",
            "text/plain": [
              "<Figure size 432x288 with 1 Axes>"
            ]
          },
          "metadata": {
            "tags": []
          }
        }
      ]
    },
    {
      "cell_type": "code",
      "metadata": {
        "id": "JHttZku1KbYn",
        "colab_type": "code",
        "colab": {}
      },
      "source": [
        ""
      ],
      "execution_count": 0,
      "outputs": []
    }
  ]
}